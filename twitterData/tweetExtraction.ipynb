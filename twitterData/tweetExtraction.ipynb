{
 "cells": [
  {
   "cell_type": "code",
   "execution_count": 2,
   "id": "33e8d138",
   "metadata": {},
   "outputs": [
    {
     "name": "stdout",
     "output_type": "stream",
     "text": [
      "Requirement already satisfied: tweepy in /Users/yogeeswar/opt/anaconda3/lib/python3.9/site-packages (4.9.0)\r\n",
      "Requirement already satisfied: requests-oauthlib<2,>=1.2.0 in /Users/yogeeswar/opt/anaconda3/lib/python3.9/site-packages (from tweepy) (1.3.1)\r\n",
      "Requirement already satisfied: requests<3,>=2.27.0 in /Users/yogeeswar/opt/anaconda3/lib/python3.9/site-packages (from tweepy) (2.27.1)\r\n",
      "Requirement already satisfied: oauthlib<4,>=3.2.0 in /Users/yogeeswar/opt/anaconda3/lib/python3.9/site-packages (from tweepy) (3.2.0)\r\n",
      "Requirement already satisfied: certifi>=2017.4.17 in /Users/yogeeswar/opt/anaconda3/lib/python3.9/site-packages (from requests<3,>=2.27.0->tweepy) (2021.10.8)\r\n",
      "Requirement already satisfied: charset-normalizer~=2.0.0 in /Users/yogeeswar/opt/anaconda3/lib/python3.9/site-packages (from requests<3,>=2.27.0->tweepy) (2.0.4)\r\n",
      "Requirement already satisfied: urllib3<1.27,>=1.21.1 in /Users/yogeeswar/opt/anaconda3/lib/python3.9/site-packages (from requests<3,>=2.27.0->tweepy) (1.26.7)\r\n",
      "Requirement already satisfied: idna<4,>=2.5 in /Users/yogeeswar/opt/anaconda3/lib/python3.9/site-packages (from requests<3,>=2.27.0->tweepy) (3.2)\r\n"
     ]
    }
   ],
   "source": [
    "!pip install tweepy"
   ]
  },
  {
   "cell_type": "code",
   "execution_count": 3,
   "id": "7543ff45",
   "metadata": {},
   "outputs": [],
   "source": [
    "import tweepy\n",
    "import pandas as pd\n",
    "import configparser"
   ]
  },
  {
   "cell_type": "code",
   "execution_count": 4,
   "id": "3e322f57",
   "metadata": {},
   "outputs": [
    {
     "data": {
      "text/plain": [
       "['./config.ini']"
      ]
     },
     "execution_count": 4,
     "metadata": {},
     "output_type": "execute_result"
    }
   ],
   "source": [
    "config = configparser.ConfigParser()\n",
    "config.read(\"./config.ini\")"
   ]
  },
  {
   "cell_type": "code",
   "execution_count": 5,
   "id": "cdc4268f",
   "metadata": {},
   "outputs": [],
   "source": [
    "api_key = config['twitter']['api_key']\n",
    "api_key_secret = config['twitter']['api_key_secret']\n",
    "\n",
    "access_token = config['twitter']['access_token']\n",
    "access_token_secret = config['twitter']['access_token_secret']"
   ]
  },
  {
   "cell_type": "code",
   "execution_count": 6,
   "id": "d12239f3",
   "metadata": {},
   "outputs": [],
   "source": [
    "auth = tweepy.OAuthHandler(api_key, api_key_secret)\n",
    "auth.set_access_token(access_token, access_token_secret)"
   ]
  },
  {
   "cell_type": "code",
   "execution_count": 7,
   "id": "141a57c9",
   "metadata": {},
   "outputs": [],
   "source": [
    "api = tweepy.API(auth)"
   ]
  },
  {
   "cell_type": "code",
   "execution_count": 8,
   "id": "fbffc78b",
   "metadata": {
    "scrolled": false
   },
   "outputs": [
    {
     "name": "stdout",
     "output_type": "stream",
     "text": [
      "TWEETED AT:  2022-05-16 16:00:48+00:00\n",
      "TWEETED BY:  BBCWorld\n",
      "Johnny Depp hit me on honeymoon, says Amber Heard https://t.co/lMdB55pVpf\n",
      "=================================================\n",
      "TWEETED AT:  2022-05-16 16:00:11+00:00\n",
      "TWEETED BY:  the_hindu\n",
      "#Toyota has added a new GR-S variant to its SUV India lineup. Priced at ₹ 48.43 lakh, the Fortuner GR-S gets stylistic differences and a GR-tuned suspension system. \n",
      "https://t.co/zuvLbeJsHo\n",
      "=================================================\n",
      "TWEETED AT:  2022-05-16 15:50:02+00:00\n",
      "TWEETED BY:  the_hindu\n",
      "#Data | According to NFHS-5 survey, about 18% of married women said they cannot say ‘no’ to their husbands even if they did not want to have sexual intercourse, report @VigneshJourno @RebeccaRoseVar1 \n",
      "https://t.co/wIZKtFEU4l\n",
      "=================================================\n",
      "TWEETED AT:  2022-05-16 15:49:10+00:00\n",
      "TWEETED BY:  rashtrapatibhvn\n",
      "President Ram Nath Kovind laid a wreath at Marcus Garvey Shrine in Kingston, Jamaica. https://t.co/5GvWveNK8Z\n",
      "=================================================\n",
      "TWEETED AT:  2022-05-16 15:40:03+00:00\n",
      "TWEETED BY:  the_hindu\n",
      "In a plush, tree-lined bylane of Alwarpet, sits a little corner mess, Meen Satti, where you can have unlimited portions of rice, dried fish sambal, meen kuzhambu, chicken curry, rasam, sambar, kootu and poriyal for just ₹160.\n",
      "https://t.co/jS3WpWA7BJ\n",
      "=================================================\n",
      "TWEETED AT:  2022-05-16 15:30:12+00:00\n",
      "TWEETED BY:  the_hindu\n",
      "The #IndianArmy's Eastern command chief said #China's People's Liberation Army (#PLA) is engaged in infrastructure capacity enhancement across the international border in #ArunachalPradesh.\n",
      "https://t.co/5yw7Hhm0M5\n",
      "=================================================\n",
      "TWEETED AT:  2022-05-16 15:24:04+00:00\n",
      "TWEETED BY:  BBCWorld\n",
      "UK judges refuse to ban death penalty in Trinidad and Tobago https://t.co/Im8Pa7mVs8\n",
      "=================================================\n",
      "TWEETED AT:  2022-05-16 15:20:05+00:00\n",
      "TWEETED BY:  the_hindu\n",
      "#Lebanon's militant Hezbollah group and its allies appear to have suffered losses in Parliamentary elections with preliminary results showing their strongest opponents picking up more seats and some of their traditional partners routed out of legislature.\n",
      "https://t.co/zhIcHhAn10\n",
      "=================================================\n",
      "TWEETED AT:  2022-05-16 15:10:04+00:00\n",
      "TWEETED BY:  the_hindu\n",
      "It was in 2015 that the then 12-year-old G Roshan first laid eyes on a custom vintage motorcycle at an auto show in Udhagamandalam. “My interest in designing my own miniature motorcycles and cars stems from that,” says Roshan. | @ThinBrownDuke26\n",
      "https://t.co/b3U8Y1rU6D\n",
      "=================================================\n",
      "TWEETED AT:  2022-05-16 14:59:07+00:00\n",
      "TWEETED BY:  BBCWorld\n",
      "Who is Somalia's new leader Hassan Sheikh Mohamud? https://t.co/maTUJk77A6\n",
      "=================================================\n",
      "TWEETED AT:  2022-05-16 14:40:06+00:00\n",
      "TWEETED BY:  the_hindu\n",
      "45-year-old Mamta, one of the survivors of the #Mundka fire, has no time to grieve as another pressing worry on her mind is to feed her family of nine who is entirely dependent on her. Malti, another survivor, said it is difficult to find work.\n",
      "https://t.co/gUK3jzXQhu\n",
      "=================================================\n",
      "TWEETED AT:  2022-05-16 14:35:06+00:00\n",
      "TWEETED BY:  BBCWorld\n",
      "Goldman Sachs to offer senior staff unlimited holiday https://t.co/f2QQ94C9UJ\n",
      "=================================================\n",
      "TWEETED AT:  2022-05-16 14:30:11+00:00\n",
      "TWEETED BY:  the_hindu\n",
      "“Two people were killed and three more were taken to a hospital with injuries after a shooting on May 15 at a bustling Houston flea market,” authorities said.\n",
      "https://t.co/NRD40NPWIF\n",
      "=================================================\n",
      "TWEETED AT:  2022-05-16 14:20:03+00:00\n",
      "TWEETED BY:  the_hindu\n",
      "Benchmark indices #Sensex and #Nifty ended their six-day losing run on Monday on the back of buying in banking, auto and power stocks amid mixed trends in global equities.\n",
      "https://t.co/1bbDGBBO3N\n",
      "=================================================\n",
      "TWEETED AT:  2022-05-16 14:14:18+00:00\n",
      "TWEETED BY:  TNCoronaUpdate\n",
      "#TamilNadu | #COVID19 | 16 May 2022\n",
      "\n",
      "Today/Total - 31 / 34,54,652\n",
      "Active Cases - 332\n",
      "Discharged Today/Total - 58 / 34,16,295\n",
      "Death Today/Total - 0 /  38,025\n",
      "Samples Tested Today/Total - 13,149 / 6,64,17,654@\n",
      "Test Positivity Rate (TPR) - 0.2%\n",
      "\n",
      "#TNCoronaUpdate #TN https://t.co/vawBz0Mfnr\n",
      "=================================================\n",
      "TWEETED AT:  2022-05-16 14:13:03+00:00\n",
      "TWEETED BY:  BBCWorld\n",
      "Matriarch accused of leading Honduras drug clan captured https://t.co/846z5qBn71\n",
      "=================================================\n",
      "TWEETED AT:  2022-05-16 14:11:29+00:00\n",
      "TWEETED BY:  TNCoronaUpdate\n",
      "#TamilNadu | #COVID19 | 16 May 2022\n",
      "\n",
      "District Wise  Data\n",
      "\n",
      "#TNCoronaUpdates #coronavirus https://t.co/CUyF2AqOoM\n",
      "=================================================\n",
      "TWEETED AT:  2022-05-16 14:10:11+00:00\n",
      "TWEETED BY:  TNCoronaUpdate\n",
      "#BedsforTN\n",
      "\n",
      "#COVID19 Bed Vacancy Details In CHC / CDH / CCC as On (16.05.2022)\n",
      "\n",
      "#TamilNadu  #TNCoronaUpdate https://t.co/96rT9U9UnI\n",
      "=================================================\n",
      "TWEETED AT:  2022-05-16 14:10:04+00:00\n",
      "TWEETED BY:  the_hindu\n",
      "More than three decades after it became the first American fast food restaurant to open in the Soviet Union, #McDonald’s said that it has started the process of selling its business in #Russia, as the country continues its war in #Ukraine.\n",
      "https://t.co/7EY2Tp5exs\n",
      "=================================================\n",
      "TWEETED AT:  2022-05-16 14:09:44+00:00\n",
      "TWEETED BY:  TNCoronaUpdate\n",
      "#TamilNadu District Wise Positivity Rate as per RT-PCR Monitoring report as on 15.05.2022\n",
      "\n",
      "#TNCoronaUpdate https://t.co/ksmSIFvw9V\n",
      "=================================================\n"
     ]
    }
   ],
   "source": [
    "#public_tweets = api.home_timeline(tweet_mode='extended')\n",
    "#print(public_tweets)\n",
    "\n",
    "columns = ['Time', 'Tweet']\n",
    "data = []\n",
    "\n",
    "for tweet in public_tweets:\n",
    "    data.append([tweet.created_at, tweet.user.screen_name, tweet.full_text])\n",
    "\n",
    "    print(\"TWEETED AT: \", tweet.created_at)\n",
    "    print(tweet.full_text)\n",
    "    print(\"=================================================\")\n",
    "    \n",
    "df = pd.DataFrame(data, columns = columns)\n",
    "df.to_csv('./tweets.csv')"
   ]
  },
  {
   "cell_type": "code",
   "execution_count": null,
   "id": "97624024",
   "metadata": {},
   "outputs": [],
   "source": []
  }
 ],
 "metadata": {
  "kernelspec": {
   "display_name": "Python 3 (ipykernel)",
   "language": "python",
   "name": "python3"
  },
  "language_info": {
   "codemirror_mode": {
    "name": "ipython",
    "version": 3
   },
   "file_extension": ".py",
   "mimetype": "text/x-python",
   "name": "python",
   "nbconvert_exporter": "python",
   "pygments_lexer": "ipython3",
   "version": "3.9.7"
  }
 },
 "nbformat": 4,
 "nbformat_minor": 5
}
