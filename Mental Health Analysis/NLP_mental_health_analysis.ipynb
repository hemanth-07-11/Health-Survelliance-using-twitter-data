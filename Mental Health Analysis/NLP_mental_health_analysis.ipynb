{
  "cells": [
    {
      "cell_type": "markdown",
      "metadata": {
        "id": "EqV89lJyf7-k"
      },
      "source": [
        "## 2.1 Data upload"
      ]
    },
    {
      "cell_type": "code",
      "execution_count": 1,
      "metadata": {
        "id": "ZHa6RbQif7-k"
      },
      "outputs": [],
      "source": [
        "import numpy as np\n",
        "import pandas as pd\n",
        "import matplotlib.pyplot as plt\n",
        "%matplotlib inline\n",
        "import seaborn as sns\n",
        "import re\n",
        "\n",
        "from collections import Counter\n",
        "from collections import defaultdict"
      ]
    },
    {
      "cell_type": "code",
      "execution_count": 2,
      "metadata": {
        "colab": {
          "base_uri": "https://localhost:8080/",
          "height": 337
        },
        "id": "tKupITXlf7-l",
        "outputId": "5e4662e9-f274-49f6-932b-dc2cdee1046d"
      },
      "outputs": [
        {
          "output_type": "execute_result",
          "data": {
            "text/plain": [
              "                                               title  \\\n",
              "0                                  Craving closeness   \n",
              "1                                Mental health class   \n",
              "2  My 7yo son accidentally fell on our pet bird a...   \n",
              "3         Who else doesn’t want covid world to leave   \n",
              "4  my mental health is suffering due to my contro...   \n",
              "\n",
              "                                                body                author  \\\n",
              "0  About a year ago, I got into a relationship th...             Nash4N00b   \n",
              "1  I think schools should have a mandatory mental...       ConnecticutJohn   \n",
              "2  It was TRULY a freak accident and not expected...  AnonymousCounselor52   \n",
              "3  My mental health has been so bad and I’ve been...          jjdabest8820   \n",
              "4  note: please read my previous posts for contex...      Wooden_View_7120   \n",
              "\n",
              "                                                 url  score  upvote_ratio  \\\n",
              "0  https://www.reddit.com/r/mentalhealth/comments...      2          1.00   \n",
              "1  https://www.reddit.com/r/mentalhealth/comments...    112          0.97   \n",
              "2  https://www.reddit.com/r/mentalhealth/comments...    387          0.97   \n",
              "3  https://www.reddit.com/r/mentalhealth/comments...     15          0.94   \n",
              "4  https://www.reddit.com/r/mentalhealth/comments...      7          0.83   \n",
              "\n",
              "      subreddit  \n",
              "0  mentalhealth  \n",
              "1  mentalhealth  \n",
              "2  mentalhealth  \n",
              "3  mentalhealth  \n",
              "4  mentalhealth  "
            ],
            "text/html": [
              "\n",
              "  <div id=\"df-10d3e9c9-c91f-4249-910c-9438869ed21a\">\n",
              "    <div class=\"colab-df-container\">\n",
              "      <div>\n",
              "<style scoped>\n",
              "    .dataframe tbody tr th:only-of-type {\n",
              "        vertical-align: middle;\n",
              "    }\n",
              "\n",
              "    .dataframe tbody tr th {\n",
              "        vertical-align: top;\n",
              "    }\n",
              "\n",
              "    .dataframe thead th {\n",
              "        text-align: right;\n",
              "    }\n",
              "</style>\n",
              "<table border=\"1\" class=\"dataframe\">\n",
              "  <thead>\n",
              "    <tr style=\"text-align: right;\">\n",
              "      <th></th>\n",
              "      <th>title</th>\n",
              "      <th>body</th>\n",
              "      <th>author</th>\n",
              "      <th>url</th>\n",
              "      <th>score</th>\n",
              "      <th>upvote_ratio</th>\n",
              "      <th>subreddit</th>\n",
              "    </tr>\n",
              "  </thead>\n",
              "  <tbody>\n",
              "    <tr>\n",
              "      <th>0</th>\n",
              "      <td>Craving closeness</td>\n",
              "      <td>About a year ago, I got into a relationship th...</td>\n",
              "      <td>Nash4N00b</td>\n",
              "      <td>https://www.reddit.com/r/mentalhealth/comments...</td>\n",
              "      <td>2</td>\n",
              "      <td>1.00</td>\n",
              "      <td>mentalhealth</td>\n",
              "    </tr>\n",
              "    <tr>\n",
              "      <th>1</th>\n",
              "      <td>Mental health class</td>\n",
              "      <td>I think schools should have a mandatory mental...</td>\n",
              "      <td>ConnecticutJohn</td>\n",
              "      <td>https://www.reddit.com/r/mentalhealth/comments...</td>\n",
              "      <td>112</td>\n",
              "      <td>0.97</td>\n",
              "      <td>mentalhealth</td>\n",
              "    </tr>\n",
              "    <tr>\n",
              "      <th>2</th>\n",
              "      <td>My 7yo son accidentally fell on our pet bird a...</td>\n",
              "      <td>It was TRULY a freak accident and not expected...</td>\n",
              "      <td>AnonymousCounselor52</td>\n",
              "      <td>https://www.reddit.com/r/mentalhealth/comments...</td>\n",
              "      <td>387</td>\n",
              "      <td>0.97</td>\n",
              "      <td>mentalhealth</td>\n",
              "    </tr>\n",
              "    <tr>\n",
              "      <th>3</th>\n",
              "      <td>Who else doesn’t want covid world to leave</td>\n",
              "      <td>My mental health has been so bad and I’ve been...</td>\n",
              "      <td>jjdabest8820</td>\n",
              "      <td>https://www.reddit.com/r/mentalhealth/comments...</td>\n",
              "      <td>15</td>\n",
              "      <td>0.94</td>\n",
              "      <td>mentalhealth</td>\n",
              "    </tr>\n",
              "    <tr>\n",
              "      <th>4</th>\n",
              "      <td>my mental health is suffering due to my contro...</td>\n",
              "      <td>note: please read my previous posts for contex...</td>\n",
              "      <td>Wooden_View_7120</td>\n",
              "      <td>https://www.reddit.com/r/mentalhealth/comments...</td>\n",
              "      <td>7</td>\n",
              "      <td>0.83</td>\n",
              "      <td>mentalhealth</td>\n",
              "    </tr>\n",
              "  </tbody>\n",
              "</table>\n",
              "</div>\n",
              "      <button class=\"colab-df-convert\" onclick=\"convertToInteractive('df-10d3e9c9-c91f-4249-910c-9438869ed21a')\"\n",
              "              title=\"Convert this dataframe to an interactive table.\"\n",
              "              style=\"display:none;\">\n",
              "        \n",
              "  <svg xmlns=\"http://www.w3.org/2000/svg\" height=\"24px\"viewBox=\"0 0 24 24\"\n",
              "       width=\"24px\">\n",
              "    <path d=\"M0 0h24v24H0V0z\" fill=\"none\"/>\n",
              "    <path d=\"M18.56 5.44l.94 2.06.94-2.06 2.06-.94-2.06-.94-.94-2.06-.94 2.06-2.06.94zm-11 1L8.5 8.5l.94-2.06 2.06-.94-2.06-.94L8.5 2.5l-.94 2.06-2.06.94zm10 10l.94 2.06.94-2.06 2.06-.94-2.06-.94-.94-2.06-.94 2.06-2.06.94z\"/><path d=\"M17.41 7.96l-1.37-1.37c-.4-.4-.92-.59-1.43-.59-.52 0-1.04.2-1.43.59L10.3 9.45l-7.72 7.72c-.78.78-.78 2.05 0 2.83L4 21.41c.39.39.9.59 1.41.59.51 0 1.02-.2 1.41-.59l7.78-7.78 2.81-2.81c.8-.78.8-2.07 0-2.86zM5.41 20L4 18.59l7.72-7.72 1.47 1.35L5.41 20z\"/>\n",
              "  </svg>\n",
              "      </button>\n",
              "      \n",
              "  <style>\n",
              "    .colab-df-container {\n",
              "      display:flex;\n",
              "      flex-wrap:wrap;\n",
              "      gap: 12px;\n",
              "    }\n",
              "\n",
              "    .colab-df-convert {\n",
              "      background-color: #E8F0FE;\n",
              "      border: none;\n",
              "      border-radius: 50%;\n",
              "      cursor: pointer;\n",
              "      display: none;\n",
              "      fill: #1967D2;\n",
              "      height: 32px;\n",
              "      padding: 0 0 0 0;\n",
              "      width: 32px;\n",
              "    }\n",
              "\n",
              "    .colab-df-convert:hover {\n",
              "      background-color: #E2EBFA;\n",
              "      box-shadow: 0px 1px 2px rgba(60, 64, 67, 0.3), 0px 1px 3px 1px rgba(60, 64, 67, 0.15);\n",
              "      fill: #174EA6;\n",
              "    }\n",
              "\n",
              "    [theme=dark] .colab-df-convert {\n",
              "      background-color: #3B4455;\n",
              "      fill: #D2E3FC;\n",
              "    }\n",
              "\n",
              "    [theme=dark] .colab-df-convert:hover {\n",
              "      background-color: #434B5C;\n",
              "      box-shadow: 0px 1px 3px 1px rgba(0, 0, 0, 0.15);\n",
              "      filter: drop-shadow(0px 1px 2px rgba(0, 0, 0, 0.3));\n",
              "      fill: #FFFFFF;\n",
              "    }\n",
              "  </style>\n",
              "\n",
              "      <script>\n",
              "        const buttonEl =\n",
              "          document.querySelector('#df-10d3e9c9-c91f-4249-910c-9438869ed21a button.colab-df-convert');\n",
              "        buttonEl.style.display =\n",
              "          google.colab.kernel.accessAllowed ? 'block' : 'none';\n",
              "\n",
              "        async function convertToInteractive(key) {\n",
              "          const element = document.querySelector('#df-10d3e9c9-c91f-4249-910c-9438869ed21a');\n",
              "          const dataTable =\n",
              "            await google.colab.kernel.invokeFunction('convertToInteractive',\n",
              "                                                     [key], {});\n",
              "          if (!dataTable) return;\n",
              "\n",
              "          const docLinkHtml = 'Like what you see? Visit the ' +\n",
              "            '<a target=\"_blank\" href=https://colab.research.google.com/notebooks/data_table.ipynb>data table notebook</a>'\n",
              "            + ' to learn more about interactive tables.';\n",
              "          element.innerHTML = '';\n",
              "          dataTable['output_type'] = 'display_data';\n",
              "          await google.colab.output.renderOutput(dataTable, element);\n",
              "          const docLink = document.createElement('div');\n",
              "          docLink.innerHTML = docLinkHtml;\n",
              "          element.appendChild(docLink);\n",
              "        }\n",
              "      </script>\n",
              "    </div>\n",
              "  </div>\n",
              "  "
            ]
          },
          "metadata": {},
          "execution_count": 2
        }
      ],
      "source": [
        "df = pd.read_csv('https://github.com/hemanth-07-11/Health-Survelliance-using-twitter-data/blob/main/Mental%20Health%20Analysis/mental_health_data.csv?raw=true').iloc[:,1:]\n",
        "df.head()"
      ]
    },
    {
      "cell_type": "code",
      "execution_count": 3,
      "metadata": {
        "colab": {
          "base_uri": "https://localhost:8080/"
        },
        "id": "BkHrGuZ4f7-m",
        "outputId": "800b7a8a-5458-425a-9234-2d6703103d3d"
      },
      "outputs": [
        {
          "output_type": "execute_result",
          "data": {
            "text/plain": [
              "(6239, 7)"
            ]
          },
          "metadata": {},
          "execution_count": 3
        }
      ],
      "source": [
        "df.shape"
      ]
    },
    {
      "cell_type": "code",
      "execution_count": 4,
      "metadata": {
        "colab": {
          "base_uri": "https://localhost:8080/",
          "height": 296
        },
        "id": "V7lSwvo_f7-n",
        "outputId": "b3c797b7-80a8-4b03-a3a5-ed09f885fbcb"
      },
      "outputs": [
        {
          "output_type": "execute_result",
          "data": {
            "text/plain": [
              "<matplotlib.axes._subplots.AxesSubplot at 0x7f55cf278410>"
            ]
          },
          "metadata": {},
          "execution_count": 4
        },
        {
          "output_type": "display_data",
          "data": {
            "text/plain": [
              "<Figure size 432x288 with 1 Axes>"
            ],
            "image/png": "[encoded data removed]"
          },
          "metadata": {
            "needs_background": "light"
          }
        }
      ],
      "source": [
        "sns.countplot(y=\"subreddit\", data=df)"
      ]
    },
    {
      "cell_type": "markdown",
      "metadata": {
        "id": "zbt7-78Zf7-n"
      },
      "source": [
        "## 2.2 Missing values"
      ]
    },
    {
      "cell_type": "code",
      "execution_count": 5,
      "metadata": {
        "colab": {
          "base_uri": "https://localhost:8080/"
        },
        "id": "H0Fbl5cNf7-n",
        "outputId": "bbcfc442-714e-431c-ac27-4e2aa6efd792"
      },
      "outputs": [
        {
          "output_type": "execute_result",
          "data": {
            "text/plain": [
              "title             0\n",
              "body            316\n",
              "author           26\n",
              "url               0\n",
              "score             0\n",
              "upvote_ratio      0\n",
              "subreddit         0\n",
              "dtype: int64"
            ]
          },
          "metadata": {},
          "execution_count": 5
        }
      ],
      "source": [
        "df.isna().sum()"
      ]
    },
    {
      "cell_type": "code",
      "execution_count": 6,
      "metadata": {
        "colab": {
          "base_uri": "https://localhost:8080/"
        },
        "id": "0dqH83WLf7-o",
        "outputId": "48ae3b50-d0c0-4f79-9c7b-0464f5ab280c"
      },
      "outputs": [
        {
          "output_type": "execute_result",
          "data": {
            "text/plain": [
              "0    https://www.reddit.com/r/mentalhealth/comments...\n",
              "1    https://www.reddit.com/r/mentalhealth/comments...\n",
              "2    https://www.reddit.com/r/mentalhealth/comments...\n",
              "3    https://www.reddit.com/r/depression/comments/n...\n",
              "4    https://www.reddit.com/r/depression/comments/n...\n",
              "Name: url, dtype: object"
            ]
          },
          "metadata": {},
          "execution_count": 6
        }
      ],
      "source": [
        "df[df['author'].isna()].reset_index()['url'][:5]"
      ]
    },
    {
      "cell_type": "code",
      "execution_count": 7,
      "metadata": {
        "colab": {
          "base_uri": "https://localhost:8080/"
        },
        "id": "sVUtQ367f7-o",
        "outputId": "8d5d3a38-1abd-45f1-b43c-90e79506388c"
      },
      "outputs": [
        {
          "output_type": "execute_result",
          "data": {
            "text/plain": [
              "subreddit\n",
              "Anxiety          20\n",
              "SuicideWatch     45\n",
              "bipolar         232\n",
              "depression        7\n",
              "mentalhealth     12\n",
              "Name: title, dtype: int64"
            ]
          },
          "metadata": {},
          "execution_count": 7
        }
      ],
      "source": [
        "df[df['body'].isna()].groupby('subreddit').count()['title']"
      ]
    },
    {
      "cell_type": "code",
      "execution_count": 8,
      "metadata": {
        "colab": {
          "base_uri": "https://localhost:8080/"
        },
        "id": "u7lfRWB1f7-p",
        "outputId": "e88862b5-0a98-484b-86e4-00ad854e8fb9"
      },
      "outputs": [
        {
          "output_type": "execute_result",
          "data": {
            "text/plain": [
              "0      https://i.redd.it/inr6td85lrw61.jpg\n",
              "1      https://i.redd.it/6hgatwtv0rw61.jpg\n",
              "2    https://www.reddit.com/gallery/n3p1t5\n",
              "3      https://i.redd.it/35rj80rxtqw61.jpg\n",
              "4      https://i.redd.it/2mirmpc2duw61.jpg\n",
              "Name: url, dtype: object"
            ]
          },
          "metadata": {},
          "execution_count": 8
        }
      ],
      "source": [
        "df[(df['body'].isna()) & (df['subreddit']=='bipolar')].reset_index()['url'][:5]"
      ]
    },
    {
      "cell_type": "code",
      "execution_count": 9,
      "metadata": {
        "id": "rigoOmLvf7-p"
      },
      "outputs": [],
      "source": [
        "df = df[~((df['body'].isna()) & (df['subreddit'].isin(['bipolar', 'mentalhealth'])))].reset_index().drop('index', axis=1)"
      ]
    },
    {
      "cell_type": "code",
      "execution_count": 10,
      "metadata": {
        "colab": {
          "base_uri": "https://localhost:8080/"
        },
        "id": "EsP64a0nf7-p",
        "outputId": "fb5ba63f-09c6-4837-a647-381e3a04ccb4"
      },
      "outputs": [
        {
          "output_type": "execute_result",
          "data": {
            "text/plain": [
              "0    https://www.reddit.com/r/SuicideWatch/comments...\n",
              "1    https://www.reddit.com/r/SuicideWatch/comments...\n",
              "2    https://www.reddit.com/r/SuicideWatch/comments...\n",
              "3    https://www.reddit.com/r/SuicideWatch/comments...\n",
              "4    https://www.reddit.com/r/SuicideWatch/comments...\n",
              "Name: url, dtype: object"
            ]
          },
          "metadata": {},
          "execution_count": 10
        }
      ],
      "source": [
        "df[(df['body'].isna()) & (df['subreddit']=='SuicideWatch')].reset_index()['url'][:5]"
      ]
    },
    {
      "cell_type": "code",
      "execution_count": 11,
      "metadata": {
        "id": "frGfK22Lf7-q"
      },
      "outputs": [],
      "source": [
        "df.fillna('', inplace=True)"
      ]
    },
    {
      "cell_type": "code",
      "execution_count": 12,
      "metadata": {
        "colab": {
          "base_uri": "https://localhost:8080/",
          "height": 296
        },
        "id": "naxwIu0Qf7-q",
        "outputId": "2cc1c177-1d05-4687-bcdb-bc1290745058"
      },
      "outputs": [
        {
          "output_type": "execute_result",
          "data": {
            "text/plain": [
              "<matplotlib.axes._subplots.AxesSubplot at 0x7f55b3e61e50>"
            ]
          },
          "metadata": {},
          "execution_count": 12
        },
        {
          "output_type": "display_data",
          "data": {
            "text/plain": [
              "<Figure size 432x288 with 1 Axes>"
            ],
            "image/png": "[encoded data removed]"
          },
          "metadata": {
            "needs_background": "light"
          }
        }
      ],
      "source": [
        "sns.countplot(y=\"subreddit\", data=df)"
      ]
    },
    {
      "cell_type": "code",
      "execution_count": 13,
      "metadata": {
        "colab": {
          "base_uri": "https://localhost:8080/"
        },
        "id": "19StZcTgf7-q",
        "outputId": "4e339fb8-183b-4e3a-ff6a-e2fe06639012"
      },
      "outputs": [
        {
          "output_type": "execute_result",
          "data": {
            "text/plain": [
              "(5995, 7)"
            ]
          },
          "metadata": {},
          "execution_count": 13
        }
      ],
      "source": [
        "df.shape"
      ]
    },
    {
      "cell_type": "markdown",
      "metadata": {
        "id": "8rzRCwzqf7-r"
      },
      "source": [
        "## 2.3 Preprocessing"
      ]
    },
    {
      "cell_type": "code",
      "execution_count": 14,
      "metadata": {
        "id": "XG7e_9kTf7-r"
      },
      "outputs": [],
      "source": [
        "df['full_text'] = df['title'] + \" \" + df['body']"
      ]
    },
    {
      "cell_type": "code",
      "execution_count": 15,
      "metadata": {
        "id": "9--8YJlLf7-r"
      },
      "outputs": [],
      "source": [
        "def reddit_specific_preprocessing(text):\n",
        "    \n",
        "    text = re.sub(r'\\n+', ' ', text)\n",
        "\n",
        "    text = re.sub(r'\\\"?\\\\?&?gt;?', '', text)\n",
        "\n",
        "    text = re.sub(r'\\*', '', text)\n",
        "\n",
        "    text = re.sub('&amp;#x200B;', '', text)\n",
        "\n",
        "    text = re.sub(r'\\[.*?\\]\\(.*?\\)', '', text)\n",
        "\n",
        "    text = re.sub('~', '', text)\n",
        "\n",
        "    text = re.sub('&lt;', '', text)\n",
        "    text = re.sub(r'!(.*?)!', r'\\1', text)\n",
        "    text = re.sub('`', '', text)\n",
        "\n",
        "    text = re.sub(r'\\^\\((.*?)\\)', r'\\1', text)\n",
        "\n",
        "    text = re.sub(r'\\|', ' ', text)\n",
        "    text = re.sub(':-', '', text)\n",
        "\n",
        "    text = re.sub('#', '', text)\n",
        "\n",
        "    text = text.strip()\n",
        "    text = re.sub(r'\\s\\s+', ' ', text)\n",
        "\n",
        "    return text"
      ]
    },
    {
      "cell_type": "code",
      "execution_count": 16,
      "metadata": {
        "id": "Y5rF7do1f7-s"
      },
      "outputs": [],
      "source": [
        "df_preprocessing = df[['url', 'full_text']].copy()"
      ]
    },
    {
      "cell_type": "code",
      "execution_count": 17,
      "metadata": {
        "colab": {
          "base_uri": "https://localhost:8080/",
          "height": 206
        },
        "id": "GvOcxjZif7-s",
        "outputId": "bac0f8f5-dd3e-4cce-9295-b6148c8463ca"
      },
      "outputs": [
        {
          "output_type": "execute_result",
          "data": {
            "text/plain": [
              "                                                 url  \\\n",
              "0  https://www.reddit.com/r/mentalhealth/comments...   \n",
              "1  https://www.reddit.com/r/mentalhealth/comments...   \n",
              "2  https://www.reddit.com/r/mentalhealth/comments...   \n",
              "3  https://www.reddit.com/r/mentalhealth/comments...   \n",
              "4  https://www.reddit.com/r/mentalhealth/comments...   \n",
              "\n",
              "                                           full_text  \n",
              "0  Craving closeness About a year ago, I got into...  \n",
              "1  Mental health class I think schools should hav...  \n",
              "2  My 7yo son accidentally fell on our pet bird a...  \n",
              "3  Who else doesn’t want covid world to leave My ...  \n",
              "4  my mental health is suffering due to my contro...  "
            ],
            "text/html": [
              "\n",
              "  <div id=\"df-ba836742-91a9-4323-a9a8-37dec970cb8a\">\n",
              "    <div class=\"colab-df-container\">\n",
              "      <div>\n",
              "<style scoped>\n",
              "    .dataframe tbody tr th:only-of-type {\n",
              "        vertical-align: middle;\n",
              "    }\n",
              "\n",
              "    .dataframe tbody tr th {\n",
              "        vertical-align: top;\n",
              "    }\n",
              "\n",
              "    .dataframe thead th {\n",
              "        text-align: right;\n",
              "    }\n",
              "</style>\n",
              "<table border=\"1\" class=\"dataframe\">\n",
              "  <thead>\n",
              "    <tr style=\"text-align: right;\">\n",
              "      <th></th>\n",
              "      <th>url</th>\n",
              "      <th>full_text</th>\n",
              "    </tr>\n",
              "  </thead>\n",
              "  <tbody>\n",
              "    <tr>\n",
              "      <th>0</th>\n",
              "      <td>https://www.reddit.com/r/mentalhealth/comments...</td>\n",
              "      <td>Craving closeness About a year ago, I got into...</td>\n",
              "    </tr>\n",
              "    <tr>\n",
              "      <th>1</th>\n",
              "      <td>https://www.reddit.com/r/mentalhealth/comments...</td>\n",
              "      <td>Mental health class I think schools should hav...</td>\n",
              "    </tr>\n",
              "    <tr>\n",
              "      <th>2</th>\n",
              "      <td>https://www.reddit.com/r/mentalhealth/comments...</td>\n",
              "      <td>My 7yo son accidentally fell on our pet bird a...</td>\n",
              "    </tr>\n",
              "    <tr>\n",
              "      <th>3</th>\n",
              "      <td>https://www.reddit.com/r/mentalhealth/comments...</td>\n",
              "      <td>Who else doesn’t want covid world to leave My ...</td>\n",
              "    </tr>\n",
              "    <tr>\n",
              "      <th>4</th>\n",
              "      <td>https://www.reddit.com/r/mentalhealth/comments...</td>\n",
              "      <td>my mental health is suffering due to my contro...</td>\n",
              "    </tr>\n",
              "  </tbody>\n",
              "</table>\n",
              "</div>\n",
              "      <button class=\"colab-df-convert\" onclick=\"convertToInteractive('df-ba836742-91a9-4323-a9a8-37dec970cb8a')\"\n",
              "              title=\"Convert this dataframe to an interactive table.\"\n",
              "              style=\"display:none;\">\n",
              "        \n",
              "  <svg xmlns=\"http://www.w3.org/2000/svg\" height=\"24px\"viewBox=\"0 0 24 24\"\n",
              "       width=\"24px\">\n",
              "    <path d=\"M0 0h24v24H0V0z\" fill=\"none\"/>\n",
              "    <path d=\"M18.56 5.44l.94 2.06.94-2.06 2.06-.94-2.06-.94-.94-2.06-.94 2.06-2.06.94zm-11 1L8.5 8.5l.94-2.06 2.06-.94-2.06-.94L8.5 2.5l-.94 2.06-2.06.94zm10 10l.94 2.06.94-2.06 2.06-.94-2.06-.94-.94-2.06-.94 2.06-2.06.94z\"/><path d=\"M17.41 7.96l-1.37-1.37c-.4-.4-.92-.59-1.43-.59-.52 0-1.04.2-1.43.59L10.3 9.45l-7.72 7.72c-.78.78-.78 2.05 0 2.83L4 21.41c.39.39.9.59 1.41.59.51 0 1.02-.2 1.41-.59l7.78-7.78 2.81-2.81c.8-.78.8-2.07 0-2.86zM5.41 20L4 18.59l7.72-7.72 1.47 1.35L5.41 20z\"/>\n",
              "  </svg>\n",
              "      </button>\n",
              "      \n",
              "  <style>\n",
              "    .colab-df-container {\n",
              "      display:flex;\n",
              "      flex-wrap:wrap;\n",
              "      gap: 12px;\n",
              "    }\n",
              "\n",
              "    .colab-df-convert {\n",
              "      background-color: #E8F0FE;\n",
              "      border: none;\n",
              "      border-radius: 50%;\n",
              "      cursor: pointer;\n",
              "      display: none;\n",
              "      fill: #1967D2;\n",
              "      height: 32px;\n",
              "      padding: 0 0 0 0;\n",
              "      width: 32px;\n",
              "    }\n",
              "\n",
              "    .colab-df-convert:hover {\n",
              "      background-color: #E2EBFA;\n",
              "      box-shadow: 0px 1px 2px rgba(60, 64, 67, 0.3), 0px 1px 3px 1px rgba(60, 64, 67, 0.15);\n",
              "      fill: #174EA6;\n",
              "    }\n",
              "\n",
              "    [theme=dark] .colab-df-convert {\n",
              "      background-color: #3B4455;\n",
              "      fill: #D2E3FC;\n",
              "    }\n",
              "\n",
              "    [theme=dark] .colab-df-convert:hover {\n",
              "      background-color: #434B5C;\n",
              "      box-shadow: 0px 1px 3px 1px rgba(0, 0, 0, 0.15);\n",
              "      filter: drop-shadow(0px 1px 2px rgba(0, 0, 0, 0.3));\n",
              "      fill: #FFFFFF;\n",
              "    }\n",
              "  </style>\n",
              "\n",
              "      <script>\n",
              "        const buttonEl =\n",
              "          document.querySelector('#df-ba836742-91a9-4323-a9a8-37dec970cb8a button.colab-df-convert');\n",
              "        buttonEl.style.display =\n",
              "          google.colab.kernel.accessAllowed ? 'block' : 'none';\n",
              "\n",
              "        async function convertToInteractive(key) {\n",
              "          const element = document.querySelector('#df-ba836742-91a9-4323-a9a8-37dec970cb8a');\n",
              "          const dataTable =\n",
              "            await google.colab.kernel.invokeFunction('convertToInteractive',\n",
              "                                                     [key], {});\n",
              "          if (!dataTable) return;\n",
              "\n",
              "          const docLinkHtml = 'Like what you see? Visit the ' +\n",
              "            '<a target=\"_blank\" href=https://colab.research.google.com/notebooks/data_table.ipynb>data table notebook</a>'\n",
              "            + ' to learn more about interactive tables.';\n",
              "          element.innerHTML = '';\n",
              "          dataTable['output_type'] = 'display_data';\n",
              "          await google.colab.output.renderOutput(dataTable, element);\n",
              "          const docLink = document.createElement('div');\n",
              "          docLink.innerHTML = docLinkHtml;\n",
              "          element.appendChild(docLink);\n",
              "        }\n",
              "      </script>\n",
              "    </div>\n",
              "  </div>\n",
              "  "
            ]
          },
          "metadata": {},
          "execution_count": 17
        }
      ],
      "source": [
        "df_preprocessing.head()"
      ]
    },
    {
      "cell_type": "code",
      "execution_count": 18,
      "metadata": {
        "id": "aVB6QXwwf7-s"
      },
      "outputs": [],
      "source": [
        "df_preprocessing['01_reddit_specific'] = df_preprocessing['full_text'].apply(lambda text: reddit_specific_preprocessing(text))"
      ]
    },
    {
      "cell_type": "code",
      "execution_count": 19,
      "metadata": {
        "colab": {
          "base_uri": "https://localhost:8080/",
          "height": 87
        },
        "id": "-dAoQ0xef7-t",
        "outputId": "94659173-9d2f-4c6e-92ba-279214d9a71d"
      },
      "outputs": [
        {
          "output_type": "execute_result",
          "data": {
            "text/plain": [
              "'Craving closeness About a year ago, I got into a relationship that lasted until December 2020. I was the one that broke up. I loved her, but I didn’t see a satisfying future for me, so it was a tough decision to make. The problem is that I now really crave the closeness I had with her, cause I don’t really get that with anyone else. I want the love we had for each other with someone else, and it’s really annoying. I want the spooning, the sex, everything. I’m only 18, so it’s probably not something I should be thinking about, but I do. Is this normal, or should I seek help?'"
            ],
            "application/vnd.google.colaboratory.intrinsic+json": {
              "type": "string"
            }
          },
          "metadata": {},
          "execution_count": 19
        }
      ],
      "source": [
        "df_preprocessing['01_reddit_specific'][0]"
      ]
    },
    {
      "cell_type": "markdown",
      "metadata": {
        "id": "dL50J2OHf7-t"
      },
      "source": [
        "### 2.3.2 General purpose preprocessing"
      ]
    },
    {
      "cell_type": "markdown",
      "metadata": {
        "id": "0-oZgXfLf7-t"
      },
      "source": [
        "#### Remove stopwords"
      ]
    },
    {
      "cell_type": "code",
      "execution_count": 20,
      "metadata": {
        "colab": {
          "base_uri": "https://localhost:8080/"
        },
        "id": "qEuGxQI8f7-t",
        "outputId": "1eb87a9b-ec42-41a5-b039-d17283ce38fc"
      },
      "outputs": [
        {
          "output_type": "stream",
          "name": "stdout",
          "text": [
            "[nltk_data] Downloading package stopwords to /root/nltk_data...\n",
            "[nltk_data]   Unzipping corpora/stopwords.zip.\n"
          ]
        }
      ],
      "source": [
        "import nltk\n",
        "nltk.download('stopwords')\n",
        "from nltk.corpus import stopwords\n",
        "\n",
        "STOPWORDS = set(stopwords.words('english'))\n",
        "\n",
        "def remove_stopwords(text):\n",
        "    return \" \".join([word for word in str(text).split() if word not in STOPWORDS])\n",
        "\n",
        "df_preprocessing['02_remove_stopwords'] = df_preprocessing['01_reddit_specific'].apply(lambda text: remove_stopwords(text))"
      ]
    },
    {
      "cell_type": "code",
      "execution_count": 21,
      "metadata": {
        "colab": {
          "base_uri": "https://localhost:8080/",
          "height": 70
        },
        "id": "N-lWxGVuf7-u",
        "outputId": "74318b1c-d905-4765-f6b0-95f4b65463f8"
      },
      "outputs": [
        {
          "output_type": "execute_result",
          "data": {
            "text/plain": [
              "'Craving closeness About year ago, I got relationship lasted December 2020. I one broke up. I loved her, I didn’t see satisfying future me, tough decision make. The problem I really crave closeness I her, cause I don’t really get anyone else. I want love someone else, it’s really annoying. I want spooning, sex, everything. I’m 18, it’s probably something I thinking about, I do. Is normal, I seek help?'"
            ],
            "application/vnd.google.colaboratory.intrinsic+json": {
              "type": "string"
            }
          },
          "metadata": {},
          "execution_count": 21
        }
      ],
      "source": [
        "df_preprocessing['02_remove_stopwords'][0]"
      ]
    },
    {
      "cell_type": "markdown",
      "metadata": {
        "id": "x1xy3KoOf7-u"
      },
      "source": [
        "#### Remove punctuation"
      ]
    },
    {
      "cell_type": "code",
      "execution_count": 22,
      "metadata": {
        "id": "D-TdA03yf7-u"
      },
      "outputs": [],
      "source": [
        "import string\n",
        "\n",
        "PUNCTUATION = string.punctuation\n",
        "\n",
        "def remove_punctuation(text):\n",
        "    return text.translate(str.maketrans('', '', PUNCTUATION))\n",
        "\n",
        "df_preprocessing['03_remove_punctuation'] = df_preprocessing['02_remove_stopwords'].apply(lambda text: remove_punctuation(text))"
      ]
    },
    {
      "cell_type": "code",
      "execution_count": 23,
      "metadata": {
        "colab": {
          "base_uri": "https://localhost:8080/",
          "height": 70
        },
        "id": "am_MgbwLf7-u",
        "outputId": "ab16a66c-5306-4b09-ea47-6de1d56f772b"
      },
      "outputs": [
        {
          "output_type": "execute_result",
          "data": {
            "text/plain": [
              "'Craving closeness About year ago I got relationship lasted December 2020 I one broke up I loved her I didn’t see satisfying future me tough decision make The problem I really crave closeness I her cause I don’t really get anyone else I want love someone else it’s really annoying I want spooning sex everything I’m 18 it’s probably something I thinking about I do Is normal I seek help'"
            ],
            "application/vnd.google.colaboratory.intrinsic+json": {
              "type": "string"
            }
          },
          "metadata": {},
          "execution_count": 23
        }
      ],
      "source": [
        "df_preprocessing['03_remove_punctuation'][0]"
      ]
    },
    {
      "cell_type": "markdown",
      "metadata": {
        "id": "8ohdOL_Hf7-u"
      },
      "source": [
        "#### Lemmatization"
      ]
    },
    {
      "cell_type": "code",
      "execution_count": 24,
      "metadata": {
        "id": "hmG5x9Dtf7-v"
      },
      "outputs": [],
      "source": [
        "import spacy\n",
        "nlp = spacy.load('en_core_web_sm')"
      ]
    },
    {
      "cell_type": "code",
      "execution_count": 25,
      "metadata": {
        "id": "kFEt9f9if7-v"
      },
      "outputs": [],
      "source": [
        "def lemmatize(text, pos_list=None):\n",
        "    \n",
        "    if pos_list is None:\n",
        "        return [token.lemma_ for token in nlp(text)]\n",
        "    \n",
        "    else:\n",
        "        return [token.lemma_ for token in nlp(text) if token.pos_ in pos_list]"
      ]
    },
    {
      "cell_type": "code",
      "execution_count": 26,
      "metadata": {
        "id": "0rJlVYPFf7-v"
      },
      "outputs": [],
      "source": [
        "df_preprocessing['lemmatization_standard'] = df_preprocessing['03_remove_punctuation'].apply(lambda text: lemmatize(text))\n",
        "df_preprocessing['lemmatization_standard'] = df_preprocessing['lemmatization_standard'].apply(lambda tokens: ' '.join(tokens))"
      ]
    },
    {
      "cell_type": "code",
      "execution_count": 27,
      "metadata": {
        "colab": {
          "base_uri": "https://localhost:8080/",
          "height": 70
        },
        "id": "rBHpKLMVf7-v",
        "outputId": "d011385c-ad63-4665-c134-3e5af77c5b24"
      },
      "outputs": [
        {
          "output_type": "execute_result",
          "data": {
            "text/plain": [
              "'crave closeness about year ago -PRON- get relationship last December 2020 -PRON- one break up -PRON- love -PRON- -PRON- do not see satisfy future -PRON- tough decision make the problem -PRON- really crave closeness -PRON- -PRON- cause -PRON- do not really get anyone else -PRON- want love someone else -PRON- ’ really annoying -PRON- want spoon sex everything -PRON- be 18 -PRON- ’ probably something -PRON- think about -PRON- do be normal -PRON- seek help'"
            ],
            "application/vnd.google.colaboratory.intrinsic+json": {
              "type": "string"
            }
          },
          "metadata": {},
          "execution_count": 27
        }
      ],
      "source": [
        "df_preprocessing['lemmatization_standard'][0]"
      ]
    },
    {
      "cell_type": "code",
      "execution_count": 28,
      "metadata": {
        "id": "1qYVqZgaf7-v"
      },
      "outputs": [],
      "source": [
        "pos_list = ['NOUN', 'ADJ']\n",
        "df_preprocessing['lemmatization_nuon_adj'] = df_preprocessing['03_remove_punctuation'].apply(lambda text: lemmatize(text, pos_list=pos_list))\n",
        "df_preprocessing['lemmatization_nuon_adj'] = df_preprocessing['lemmatization_nuon_adj'].apply(lambda tokens: ' '.join(tokens))"
      ]
    },
    {
      "cell_type": "code",
      "execution_count": 29,
      "metadata": {
        "colab": {
          "base_uri": "https://localhost:8080/",
          "height": 35
        },
        "id": "RkUC6IIcf7-v",
        "outputId": "a0018e25-78d0-48ac-fd1d-bcfea7a33283"
      },
      "outputs": [
        {
          "output_type": "execute_result",
          "data": {
            "text/plain": [
              "'closeness year relationship future tough decision problem closeness love annoying sex normal help'"
            ],
            "application/vnd.google.colaboratory.intrinsic+json": {
              "type": "string"
            }
          },
          "metadata": {},
          "execution_count": 29
        }
      ],
      "source": [
        "df_preprocessing['lemmatization_nuon_adj'][0]"
      ]
    },
    {
      "cell_type": "markdown",
      "metadata": {
        "id": "cYcU7vRIf7-w"
      },
      "source": [
        "## 2.4 Pre-Post processing analysis"
      ]
    },
    {
      "cell_type": "code",
      "execution_count": 30,
      "metadata": {
        "id": "G_l6hd56f7-w"
      },
      "outputs": [],
      "source": [
        "df_preprocessing = df_preprocessing.merge(df[['url', 'subreddit']], on='url')"
      ]
    },
    {
      "cell_type": "code",
      "execution_count": 31,
      "metadata": {
        "colab": {
          "base_uri": "https://localhost:8080/"
        },
        "id": "_N8MTlstf7-w",
        "outputId": "39ae7029-c13c-4b1a-cd91-7171901d80a0"
      },
      "outputs": [
        {
          "output_type": "execute_result",
          "data": {
            "text/plain": [
              "['CasualConversation',\n",
              " 'depression',\n",
              " 'mentalhealth',\n",
              " 'SuicideWatch',\n",
              " 'Anxiety',\n",
              " 'bipolar',\n",
              " 'BPD']"
            ]
          },
          "metadata": {},
          "execution_count": 31
        }
      ],
      "source": [
        "subreddits = list(set(df['subreddit']))\n",
        "subreddits"
      ]
    },
    {
      "cell_type": "markdown",
      "metadata": {
        "id": "cRtzu6Zof7-w"
      },
      "source": [
        "### Number chars"
      ]
    },
    {
      "cell_type": "code",
      "execution_count": 32,
      "metadata": {
        "colab": {
          "base_uri": "https://localhost:8080/",
          "height": 309
        },
        "id": "f9QH6BaFf7-x",
        "outputId": "d70359ec-f96f-4fb8-d507-ed5d159f0c13"
      },
      "outputs": [
        {
          "output_type": "display_data",
          "data": {
            "text/plain": [
              "<Figure size 1800x360 with 7 Axes>"
            ],
            "image/png": "[encoded data removed]"
          },
          "metadata": {
            "needs_background": "light"
          }
        }
      ],
      "source": [
        "fig, ax= plt.subplots(1, len(subreddits) ,figsize=(25,5))\n",
        "\n",
        "for i, sub in enumerate(subreddits):\n",
        "    \n",
        "    text_len = df_preprocessing[df_preprocessing['subreddit']==sub]['full_text'].str.len()\n",
        "    ax[i].hist(text_len, range=(0, 10000))\n",
        "    ax[i].set_title(sub)\n",
        "    \n",
        "fig.suptitle('Characters in text BEFORE cleaning')\n",
        "plt.show()"
      ]
    },
    {
      "cell_type": "code",
      "execution_count": 33,
      "metadata": {
        "colab": {
          "base_uri": "https://localhost:8080/",
          "height": 310
        },
        "id": "BY3kc_HNf7-x",
        "outputId": "8c55602d-6592-4d3a-e3b8-2a9a0b806444"
      },
      "outputs": [
        {
          "output_type": "display_data",
          "data": {
            "text/plain": [
              "<Figure size 1800x360 with 7 Axes>"
            ],
            "image/png": "[encoded data removed]"
          },
          "metadata": {
            "needs_background": "light"
          }
        }
      ],
      "source": [
        "fig, ax= plt.subplots(1, len(subreddits) ,figsize=(25,5))\n",
        "\n",
        "for i, sub in enumerate(subreddits):\n",
        "    \n",
        "    text_len = df_preprocessing[df_preprocessing['subreddit']==sub]['lemmatization_nuon_adj'].str.len()\n",
        "    ax[i].hist(text_len, range=(0, 3000))\n",
        "    ax[i].set_title(sub)\n",
        "    \n",
        "fig.suptitle('Characters in text AFTER cleaning')\n",
        "plt.show()"
      ]
    },
    {
      "cell_type": "markdown",
      "metadata": {
        "id": "Z94YeeK1f7-x"
      },
      "source": [
        "### Number words"
      ]
    },
    {
      "cell_type": "code",
      "execution_count": 34,
      "metadata": {
        "colab": {
          "base_uri": "https://localhost:8080/",
          "height": 310
        },
        "id": "8i1APZIjf7-x",
        "outputId": "34668d41-8d1b-43a3-bca7-e795fe2820ca"
      },
      "outputs": [
        {
          "output_type": "display_data",
          "data": {
            "text/plain": [
              "<Figure size 1800x360 with 7 Axes>"
            ],
            "image/png": "[encoded data removed]"
          },
          "metadata": {
            "needs_background": "light"
          }
        }
      ],
      "source": [
        "fig, ax= plt.subplots(1, len(subreddits) ,figsize=(25,5))\n",
        "\n",
        "for i, sub in enumerate(subreddits):\n",
        "    \n",
        "    text_len = df_preprocessing[df_preprocessing['subreddit']==sub]['full_text'].str.split().map(lambda x: len(x))\n",
        "    ax[i].hist(text_len, range=(0, 2000))\n",
        "    ax[i].set_title(sub)\n",
        "    \n",
        "fig.suptitle('Words in a tweet BEFORE cleaning')\n",
        "plt.show()"
      ]
    },
    {
      "cell_type": "code",
      "execution_count": 35,
      "metadata": {
        "colab": {
          "base_uri": "https://localhost:8080/",
          "height": 311
        },
        "id": "ZrhTse_lf7-x",
        "outputId": "d3a9f80f-3ea9-4dcc-9ce4-ad0160a5b05c"
      },
      "outputs": [
        {
          "output_type": "display_data",
          "data": {
            "text/plain": [
              "<Figure size 1800x360 with 7 Axes>"
            ],
            "image/png": "[encoded data removed]"
          },
          "metadata": {
            "needs_background": "light"
          }
        }
      ],
      "source": [
        "fig, ax= plt.subplots(1, len(subreddits) ,figsize=(25,5))\n",
        "\n",
        "for i, sub in enumerate(subreddits):\n",
        "    \n",
        "    text_len = df_preprocessing[df_preprocessing['subreddit']==sub]['lemmatization_nuon_adj'].str.split().map(lambda x: len(x))\n",
        "    ax[i].hist(text_len, range=(0, 500))\n",
        "    ax[i].set_title(sub)\n",
        "    \n",
        "fig.suptitle('Words in a tweet AFTER cleaning')\n",
        "plt.show()"
      ]
    },
    {
      "cell_type": "markdown",
      "metadata": {
        "id": "0-ltBsCzf7-y"
      },
      "source": [
        "# 3. Analysis "
      ]
    },
    {
      "cell_type": "markdown",
      "metadata": {
        "id": "KTzDmhUef7-y"
      },
      "source": [
        "## 3.1 Language models"
      ]
    },
    {
      "cell_type": "markdown",
      "metadata": {
        "id": "QyBZ5t4Mf7-y"
      },
      "source": [
        "### BOW "
      ]
    },
    {
      "cell_type": "code",
      "execution_count": 36,
      "metadata": {
        "id": "VhGxKT7Cf7-y"
      },
      "outputs": [],
      "source": [
        "from sklearn.feature_extraction.text import CountVectorizer"
      ]
    },
    {
      "cell_type": "code",
      "execution_count": 37,
      "metadata": {
        "id": "0cONhhWNf7-y"
      },
      "outputs": [],
      "source": [
        "def bow_most_common(data, ngram):\n",
        "    \n",
        "    bow = CountVectorizer(analyzer='word', \n",
        "                      ngram_range=(ngram, ngram), \n",
        "                      min_df=0.001, \n",
        "                      max_df=0.75, \n",
        "                      stop_words='english') \n",
        "    \n",
        "    X = bow.fit_transform(data)\n",
        "    return Counter(dict(zip(bow.get_feature_names(), X.sum(axis=0).A1))).most_common(10)"
      ]
    },
    {
      "cell_type": "markdown",
      "metadata": {
        "id": "V31rfnqOf7-y"
      },
      "source": [
        "#### Original text"
      ]
    },
    {
      "cell_type": "code",
      "execution_count": 38,
      "metadata": {
        "colab": {
          "base_uri": "https://localhost:8080/"
        },
        "id": "p6IEMezZf7-y",
        "outputId": "466b5d03-ce76-4462-c407-093ef41902cc"
      },
      "outputs": [
        {
          "output_type": "stream",
          "name": "stderr",
          "text": [
            "/usr/local/lib/python3.7/dist-packages/sklearn/utils/deprecation.py:87: FutureWarning: Function get_feature_names is deprecated; get_feature_names is deprecated in 1.0 and will be removed in 1.2. Please use get_feature_names_out instead.\n",
            "  warnings.warn(msg, category=FutureWarning)\n"
          ]
        },
        {
          "output_type": "execute_result",
          "data": {
            "text/plain": [
              "[('just', 9132),\n",
              " ('like', 7843),\n",
              " ('feel', 6154),\n",
              " ('don', 6023),\n",
              " ('know', 4719),\n",
              " ('ve', 4407),\n",
              " ('want', 4089),\n",
              " ('time', 3549),\n",
              " ('really', 3491),\n",
              " ('life', 3410)]"
            ]
          },
          "metadata": {},
          "execution_count": 38
        }
      ],
      "source": [
        "bow_most_common(data=df_preprocessing['full_text'], ngram=1)"
      ]
    },
    {
      "cell_type": "code",
      "execution_count": 39,
      "metadata": {
        "colab": {
          "base_uri": "https://localhost:8080/"
        },
        "id": "d9fovy2rf7-z",
        "outputId": "28f68109-9377-4c85-d610-e9ac4988f713"
      },
      "outputs": [
        {
          "output_type": "stream",
          "name": "stderr",
          "text": [
            "/usr/local/lib/python3.7/dist-packages/sklearn/utils/deprecation.py:87: FutureWarning: Function get_feature_names is deprecated; get_feature_names is deprecated in 1.0 and will be removed in 1.2. Please use get_feature_names_out instead.\n",
            "  warnings.warn(msg, category=FutureWarning)\n"
          ]
        },
        {
          "output_type": "execute_result",
          "data": {
            "text/plain": [
              "[('feel like', 2246),\n",
              " ('don know', 1643),\n",
              " ('don want', 944),\n",
              " ('just want', 622),\n",
              " ('mental health', 546),\n",
              " ('feels like', 425),\n",
              " ('just don', 333),\n",
              " ('don think', 324),\n",
              " ('just feel', 304),\n",
              " ('felt like', 295)]"
            ]
          },
          "metadata": {},
          "execution_count": 39
        }
      ],
      "source": [
        "bow_most_common(data=df_preprocessing['full_text'], ngram=2)"
      ]
    },
    {
      "cell_type": "code",
      "execution_count": 40,
      "metadata": {
        "colab": {
          "base_uri": "https://localhost:8080/"
        },
        "id": "OMRHl4Pkf7-z",
        "outputId": "9c987210-86d3-490d-ae64-1b130823db88"
      },
      "outputs": [
        {
          "output_type": "stream",
          "name": "stderr",
          "text": [
            "/usr/local/lib/python3.7/dist-packages/sklearn/utils/deprecation.py:87: FutureWarning: Function get_feature_names is deprecated; get_feature_names is deprecated in 1.0 and will be removed in 1.2. Please use get_feature_names_out instead.\n",
            "  warnings.warn(msg, category=FutureWarning)\n"
          ]
        },
        {
          "output_type": "execute_result",
          "data": {
            "text/plain": [
              "[('just feel like', 116),\n",
              " ('just don know', 105),\n",
              " ('don feel like', 91),\n",
              " ('don know anymore', 66),\n",
              " ('mental health issues', 66),\n",
              " ('feel like ve', 65),\n",
              " ('feel like just', 59),\n",
              " ('just don want', 53),\n",
              " ('don know just', 52),\n",
              " ('makes feel like', 52)]"
            ]
          },
          "metadata": {},
          "execution_count": 40
        }
      ],
      "source": [
        "bow_most_common(data=df_preprocessing['full_text'], ngram=3)"
      ]
    },
    {
      "cell_type": "markdown",
      "metadata": {
        "id": "euKXPdKXf7-z"
      },
      "source": [
        "#### Preprocessed text"
      ]
    },
    {
      "cell_type": "code",
      "execution_count": 41,
      "metadata": {
        "colab": {
          "base_uri": "https://localhost:8080/"
        },
        "id": "tAU_5P6Gf7-z",
        "outputId": "f73e13bc-d150-40ea-873f-ec9d69df2ec5"
      },
      "outputs": [
        {
          "output_type": "stream",
          "name": "stderr",
          "text": [
            "/usr/local/lib/python3.7/dist-packages/sklearn/utils/deprecation.py:87: FutureWarning: Function get_feature_names is deprecated; get_feature_names is deprecated in 1.0 and will be removed in 1.2. Please use get_feature_names_out instead.\n",
            "  warnings.warn(msg, category=FutureWarning)\n"
          ]
        },
        {
          "output_type": "execute_result",
          "data": {
            "text/plain": [
              "[('time', 4231),\n",
              " ('thing', 3450),\n",
              " ('life', 3343),\n",
              " ('people', 3317),\n",
              " ('day', 2973),\n",
              " ('year', 2750),\n",
              " ('friend', 2588),\n",
              " ('bad', 2334),\n",
              " ('good', 2101),\n",
              " ('anxiety', 2010)]"
            ]
          },
          "metadata": {},
          "execution_count": 41
        }
      ],
      "source": [
        "bow_most_common(data=df_preprocessing['lemmatization_nuon_adj'], ngram=1)"
      ]
    },
    {
      "cell_type": "code",
      "execution_count": 42,
      "metadata": {
        "colab": {
          "base_uri": "https://localhost:8080/"
        },
        "id": "-nIjmpV5f7-z",
        "outputId": "7f6928d3-c0b1-4fb5-d6fc-a8d7b21e69b6"
      },
      "outputs": [
        {
          "output_type": "stream",
          "name": "stderr",
          "text": [
            "/usr/local/lib/python3.7/dist-packages/sklearn/utils/deprecation.py:87: FutureWarning: Function get_feature_names is deprecated; get_feature_names is deprecated in 1.0 and will be removed in 1.2. Please use get_feature_names_out instead.\n",
            "  warnings.warn(msg, category=FutureWarning)\n"
          ]
        },
        {
          "output_type": "execute_result",
          "data": {
            "text/plain": [
              "[('mental health', 499),\n",
              " ('year old', 311),\n",
              " ('panic attack', 300),\n",
              " ('good friend', 275),\n",
              " ('long time', 207),\n",
              " ('high school', 160),\n",
              " ('time time', 125),\n",
              " ('day day', 124),\n",
              " ('suicidal thought', 120),\n",
              " ('hard time', 119)]"
            ]
          },
          "metadata": {},
          "execution_count": 42
        }
      ],
      "source": [
        "bow_most_common(data=df_preprocessing['lemmatization_nuon_adj'], ngram=2)"
      ]
    },
    {
      "cell_type": "code",
      "execution_count": 43,
      "metadata": {
        "colab": {
          "base_uri": "https://localhost:8080/"
        },
        "id": "Z_Hqs9LAf7-z",
        "outputId": "01a39104-f11d-4a7d-e5bd-9b053e224dea"
      },
      "outputs": [
        {
          "output_type": "stream",
          "name": "stderr",
          "text": [
            "/usr/local/lib/python3.7/dist-packages/sklearn/utils/deprecation.py:87: FutureWarning: Function get_feature_names is deprecated; get_feature_names is deprecated in 1.0 and will be removed in 1.2. Please use get_feature_names_out instead.\n",
            "  warnings.warn(msg, category=FutureWarning)\n"
          ]
        },
        {
          "output_type": "execute_result",
          "data": {
            "text/plain": [
              "[('mental health issue', 66),\n",
              " ('long story short', 33),\n",
              " ('anxiety panic attack', 20),\n",
              " ('mental health problem', 19),\n",
              " ('life year old', 16),\n",
              " ('bad mental health', 13),\n",
              " ('bad panic attack', 13),\n",
              " ('good friend year', 13),\n",
              " ('year old life', 13),\n",
              " ('year old male', 13)]"
            ]
          },
          "metadata": {},
          "execution_count": 43
        }
      ],
      "source": [
        "bow_most_common(data=df_preprocessing['lemmatization_nuon_adj'], ngram=3)"
      ]
    },
    {
      "cell_type": "markdown",
      "metadata": {
        "id": "mqn1NmIVf7-0"
      },
      "source": [
        "#### Specific subreddit: SuicideWatch"
      ]
    },
    {
      "cell_type": "code",
      "execution_count": 44,
      "metadata": {
        "id": "RFkxO6t-f7-0"
      },
      "outputs": [],
      "source": [
        "data_suicide_watch = df_preprocessing[df_preprocessing['subreddit']=='SuicideWatch']['full_text']"
      ]
    },
    {
      "cell_type": "code",
      "execution_count": 45,
      "metadata": {
        "colab": {
          "base_uri": "https://localhost:8080/"
        },
        "id": "c3ahI5RZf7-0",
        "outputId": "836b4499-7964-46ef-e6c0-0ff477550009"
      },
      "outputs": [
        {
          "output_type": "stream",
          "name": "stderr",
          "text": [
            "/usr/local/lib/python3.7/dist-packages/sklearn/utils/deprecation.py:87: FutureWarning: Function get_feature_names is deprecated; get_feature_names is deprecated in 1.0 and will be removed in 1.2. Please use get_feature_names_out instead.\n",
            "  warnings.warn(msg, category=FutureWarning)\n"
          ]
        },
        {
          "output_type": "execute_result",
          "data": {
            "text/plain": [
              "[('just', 1442),\n",
              " ('don', 1087),\n",
              " ('like', 965),\n",
              " ('want', 919),\n",
              " ('life', 820),\n",
              " ('feel', 767),\n",
              " ('know', 641),\n",
              " ('ve', 605),\n",
              " ('people', 546),\n",
              " ('think', 425)]"
            ]
          },
          "metadata": {},
          "execution_count": 45
        }
      ],
      "source": [
        "bow_most_common(data=data_suicide_watch, ngram=1)"
      ]
    },
    {
      "cell_type": "code",
      "execution_count": 46,
      "metadata": {
        "colab": {
          "base_uri": "https://localhost:8080/"
        },
        "id": "fK8Y61J3f7-0",
        "outputId": "bbc62f56-6ea5-41c1-f272-025042e1ab13"
      },
      "outputs": [
        {
          "output_type": "stream",
          "name": "stderr",
          "text": [
            "/usr/local/lib/python3.7/dist-packages/sklearn/utils/deprecation.py:87: FutureWarning: Function get_feature_names is deprecated; get_feature_names is deprecated in 1.0 and will be removed in 1.2. Please use get_feature_names_out instead.\n",
            "  warnings.warn(msg, category=FutureWarning)\n"
          ]
        },
        {
          "output_type": "execute_result",
          "data": {
            "text/plain": [
              "[('feel like', 291),\n",
              " ('don want', 243),\n",
              " ('don know', 240),\n",
              " ('just want', 151),\n",
              " ('want die', 104),\n",
              " ('don think', 83),\n",
              " ('just don', 74),\n",
              " ('feels like', 61),\n",
              " ('suicidal thoughts', 55),\n",
              " ('ve tried', 41)]"
            ]
          },
          "metadata": {},
          "execution_count": 46
        }
      ],
      "source": [
        "bow_most_common(data=data_suicide_watch, ngram=2)"
      ]
    },
    {
      "cell_type": "code",
      "execution_count": 47,
      "metadata": {
        "colab": {
          "base_uri": "https://localhost:8080/"
        },
        "id": "nRdV0_Xmf7-0",
        "outputId": "a1777ea0-ea83-48b6-b70a-ab1d0e64d09e"
      },
      "outputs": [
        {
          "output_type": "stream",
          "name": "stderr",
          "text": [
            "/usr/local/lib/python3.7/dist-packages/sklearn/utils/deprecation.py:87: FutureWarning: Function get_feature_names is deprecated; get_feature_names is deprecated in 1.0 and will be removed in 1.2. Please use get_feature_names_out instead.\n",
            "  warnings.warn(msg, category=FutureWarning)\n"
          ]
        },
        {
          "output_type": "execute_result",
          "data": {
            "text/plain": [
              "[('just don want', 20),\n",
              " ('just want die', 20),\n",
              " ('don want live', 19),\n",
              " ('just feel like', 16),\n",
              " ('don want die', 15),\n",
              " ('just don know', 15),\n",
              " ('feel like ve', 12),\n",
              " ('want die don', 12),\n",
              " ('makes feel like', 11),\n",
              " ('don feel like', 10)]"
            ]
          },
          "metadata": {},
          "execution_count": 47
        }
      ],
      "source": [
        "bow_most_common(data=data_suicide_watch, ngram=3)"
      ]
    },
    {
      "cell_type": "code",
      "execution_count": 48,
      "metadata": {
        "id": "l62wtcrDf7-0"
      },
      "outputs": [],
      "source": [
        "data_suicide_watch = df_preprocessing[df_preprocessing['subreddit']=='SuicideWatch']['lemmatization_nuon_adj']"
      ]
    },
    {
      "cell_type": "code",
      "execution_count": 49,
      "metadata": {
        "colab": {
          "base_uri": "https://localhost:8080/"
        },
        "id": "uz2VMrsaf7-1",
        "outputId": "a9e562d3-57e3-426d-aaca-d7907ef34364"
      },
      "outputs": [
        {
          "output_type": "stream",
          "name": "stderr",
          "text": [
            "/usr/local/lib/python3.7/dist-packages/sklearn/utils/deprecation.py:87: FutureWarning: Function get_feature_names is deprecated; get_feature_names is deprecated in 1.0 and will be removed in 1.2. Please use get_feature_names_out instead.\n",
            "  warnings.warn(msg, category=FutureWarning)\n"
          ]
        },
        {
          "output_type": "execute_result",
          "data": {
            "text/plain": [
              "[('life', 799),\n",
              " ('people', 544),\n",
              " ('time', 491),\n",
              " ('thing', 434),\n",
              " ('year', 434),\n",
              " ('friend', 377),\n",
              " ('day', 369),\n",
              " ('bad', 322),\n",
              " ('good', 288),\n",
              " ('suicide', 249)]"
            ]
          },
          "metadata": {},
          "execution_count": 49
        }
      ],
      "source": [
        "bow_most_common(data=data_suicide_watch, ngram=1)"
      ]
    },
    {
      "cell_type": "code",
      "execution_count": 50,
      "metadata": {
        "colab": {
          "base_uri": "https://localhost:8080/"
        },
        "id": "cLm7gpuAf7-1",
        "outputId": "7bec9360-5b36-41a6-e7c7-5063f0d78c43"
      },
      "outputs": [
        {
          "output_type": "stream",
          "name": "stderr",
          "text": [
            "/usr/local/lib/python3.7/dist-packages/sklearn/utils/deprecation.py:87: FutureWarning: Function get_feature_names is deprecated; get_feature_names is deprecated in 1.0 and will be removed in 1.2. Please use get_feature_names_out instead.\n",
            "  warnings.warn(msg, category=FutureWarning)\n"
          ]
        },
        {
          "output_type": "execute_result",
          "data": {
            "text/plain": [
              "[('year old', 50),\n",
              " ('suicidal thought', 47),\n",
              " ('friend family', 34),\n",
              " ('mental health', 33),\n",
              " ('good friend', 32),\n",
              " ('long time', 26),\n",
              " ('high school', 24),\n",
              " ('life bad', 22),\n",
              " ('end life', 21),\n",
              " ('people life', 21)]"
            ]
          },
          "metadata": {},
          "execution_count": 50
        }
      ],
      "source": [
        "bow_most_common(data=data_suicide_watch, ngram=2)"
      ]
    },
    {
      "cell_type": "code",
      "execution_count": 51,
      "metadata": {
        "colab": {
          "base_uri": "https://localhost:8080/"
        },
        "id": "0JjAAWa5f7-1",
        "outputId": "be5e8be8-d8cd-4d08-93f0-3bd976395c01"
      },
      "outputs": [
        {
          "output_type": "stream",
          "name": "stderr",
          "text": [
            "/usr/local/lib/python3.7/dist-packages/sklearn/utils/deprecation.py:87: FutureWarning: Function get_feature_names is deprecated; get_feature_names is deprecated in 1.0 and will be removed in 1.2. Please use get_feature_names_out instead.\n",
            "  warnings.warn(msg, category=FutureWarning)\n"
          ]
        },
        {
          "output_type": "execute_result",
          "data": {
            "text/plain": [
              "[('fuck fuck fuck', 5),\n",
              " ('long story short', 5),\n",
              " ('good friend year', 4),\n",
              " ('mental health issue', 4),\n",
              " ('year good friend', 4),\n",
              " ('18th birthday dad', 3),\n",
              " ('able ejaculate piece', 3),\n",
              " ('age able ejaculate', 3),\n",
              " ('apartment apartment good', 3),\n",
              " ('apartment good good', 3)]"
            ]
          },
          "metadata": {},
          "execution_count": 51
        }
      ],
      "source": [
        "bow_most_common(data=data_suicide_watch, ngram=3)"
      ]
    },
    {
      "cell_type": "markdown",
      "metadata": {
        "id": "CTGBWUOtf7-1"
      },
      "source": [
        "### TF-IDF"
      ]
    },
    {
      "cell_type": "code",
      "execution_count": 52,
      "metadata": {
        "id": "beuYeeXCf7-1"
      },
      "outputs": [],
      "source": [
        "from sklearn.feature_extraction.text import TfidfVectorizer"
      ]
    },
    {
      "cell_type": "code",
      "execution_count": 53,
      "metadata": {
        "id": "HiGR2nbxf7-2"
      },
      "outputs": [],
      "source": [
        "def tfidf_score(data, result=False):\n",
        "    tfidf = TfidfVectorizer(analyzer='word', \n",
        "                            min_df=0.001, \n",
        "                            max_df=0.75, \n",
        "                            stop_words='english', \n",
        "                            sublinear_tf=True)\n",
        "\n",
        "    X_tfidf = tfidf.fit_transform(data)\n",
        "\n",
        "    bow = CountVectorizer(analyzer='word', \n",
        "                          min_df=0.001, \n",
        "                          max_df=0.75, \n",
        "                          stop_words='english')\n",
        "\n",
        "    X_bow = bow.fit_transform(data)\n",
        "\n",
        "    words = pd.DataFrame(data={'word': bow.get_feature_names(), \n",
        "                               'tf': X_bow.sum(axis=0).A1, \n",
        "                               'idf': tfidf.idf_,\n",
        "                               'tfidf': X_tfidf.sum(axis=0).A1}).sort_values(['tfidf', 'tf', 'idf'], ascending=False).reset_index().drop('index', axis=1)\n",
        "\n",
        "    \n",
        "    if result:\n",
        "        return words\n",
        "    \n",
        "    print('Words with highest TF-IDF score')\n",
        "    print()\n",
        "    print(words.head(10))\n",
        "    print()\n",
        "    print('Words with lowest TF-IDF score')\n",
        "    print()\n",
        "    print(words.tail(10))"
      ]
    },
    {
      "cell_type": "code",
      "execution_count": 54,
      "metadata": {
        "colab": {
          "base_uri": "https://localhost:8080/"
        },
        "id": "8HhhAtBsf7-2",
        "outputId": "a4c4fbc4-93a1-4273-d7dd-a50e586633e1"
      },
      "outputs": [
        {
          "output_type": "stream",
          "name": "stdout",
          "text": [
            "Words with highest TF-IDF score\n",
            "\n",
            "     word    tf       idf       tfidf\n",
            "0    just  9132  1.496365  248.309559\n",
            "1    like  7843  1.589322  225.186726\n",
            "2    feel  6154  1.765409  210.771047\n",
            "3     don  6023  1.784961  202.747297\n",
            "4    want  4089  2.011309  175.408830\n",
            "5    know  4719  1.872405  172.972850\n",
            "6      ve  4407  1.995389  165.345236\n",
            "7    life  3410  2.180241  150.583065\n",
            "8  really  3491  2.144513  145.266222\n",
            "9  people  3316  2.227485  141.590639\n",
            "\n",
            "Words with lowest TF-IDF score\n",
            "\n",
            "               word  tf       idf     tfidf\n",
            "5609      summarize   6  7.752938  0.621865\n",
            "5610       gorgeous   6  7.752938  0.616453\n",
            "5611  consideration   6  7.752938  0.609517\n",
            "5612    unknowingly   6  7.752938  0.607130\n",
            "5613    transparent   6  7.752938  0.575454\n",
            "5614     pedophilia   6  7.752938  0.554672\n",
            "5615        remarks   6  7.752938  0.541486\n",
            "5616    socialising   6  7.752938  0.534423\n",
            "5617        disdain   6  7.752938  0.521466\n",
            "5618         tables   6  7.752938  0.520355\n"
          ]
        },
        {
          "output_type": "stream",
          "name": "stderr",
          "text": [
            "/usr/local/lib/python3.7/dist-packages/sklearn/utils/deprecation.py:87: FutureWarning: Function get_feature_names is deprecated; get_feature_names is deprecated in 1.0 and will be removed in 1.2. Please use get_feature_names_out instead.\n",
            "  warnings.warn(msg, category=FutureWarning)\n"
          ]
        }
      ],
      "source": [
        "tfidf_score(data=df_preprocessing['full_text'])"
      ]
    },
    {
      "cell_type": "code",
      "execution_count": 55,
      "metadata": {
        "colab": {
          "base_uri": "https://localhost:8080/"
        },
        "id": "UNzNWXx9f7-2",
        "outputId": "a304fc1c-8e11-4b4a-e233-e87c903dfb44"
      },
      "outputs": [
        {
          "output_type": "stream",
          "name": "stdout",
          "text": [
            "Words with highest TF-IDF score\n",
            "\n",
            "      word    tf       idf       tfidf\n",
            "0     time  4231  1.952547  226.750941\n",
            "1     life  3343  2.187870  216.069013\n",
            "2   people  3317  2.225211  208.758595\n",
            "3    thing  3450  2.151874  199.512169\n",
            "4      day  2973  2.241239  190.585880\n",
            "5   friend  2588  2.468285  177.919087\n",
            "6      bad  2334  2.398375  174.151564\n",
            "7     year  2750  2.291530  172.728274\n",
            "8  anxiety  2010  2.696692  167.663904\n",
            "9     good  2101  2.455335  157.158225\n",
            "\n",
            "Words with lowest TF-IDF score\n",
            "\n",
            "               word  tf       idf     tfidf\n",
            "2880           oral   8  7.752938  0.963848\n",
            "2881         vacuum   6  7.752938  0.962565\n",
            "2882            dot   6  7.752938  0.960488\n",
            "2883       profound   7  7.752938  0.949055\n",
            "2884       gorgeous   6  7.752938  0.927500\n",
            "2885        measure   6  7.752938  0.926234\n",
            "2886  consideration   6  7.752938  0.920524\n",
            "2887       contrary   6  7.752938  0.889470\n",
            "2888    transparent   6  7.752938  0.835041\n",
            "2889         remark   7  7.752938  0.756246\n"
          ]
        },
        {
          "output_type": "stream",
          "name": "stderr",
          "text": [
            "/usr/local/lib/python3.7/dist-packages/sklearn/utils/deprecation.py:87: FutureWarning: Function get_feature_names is deprecated; get_feature_names is deprecated in 1.0 and will be removed in 1.2. Please use get_feature_names_out instead.\n",
            "  warnings.warn(msg, category=FutureWarning)\n"
          ]
        }
      ],
      "source": [
        "tfidf_score(data=df_preprocessing['lemmatization_nuon_adj'])"
      ]
    },
    {
      "cell_type": "code",
      "execution_count": 56,
      "metadata": {
        "colab": {
          "base_uri": "https://localhost:8080/"
        },
        "id": "5znvnJFcf7-2",
        "outputId": "b8b302b5-522a-4a80-d792-22ba9a393091"
      },
      "outputs": [
        {
          "output_type": "stream",
          "name": "stderr",
          "text": [
            "/usr/local/lib/python3.7/dist-packages/sklearn/utils/deprecation.py:87: FutureWarning: Function get_feature_names is deprecated; get_feature_names is deprecated in 1.0 and will be removed in 1.2. Please use get_feature_names_out instead.\n",
            "  warnings.warn(msg, category=FutureWarning)\n"
          ]
        },
        {
          "output_type": "stream",
          "name": "stdout",
          "text": [
            "***  CasualConversation  ***\n",
            "\n",
            "Words with highest TF-IDF score\n",
            "\n",
            "     word   tf       idf      tfidf\n",
            "0    time  444  2.035308  27.258710\n",
            "1  people  403  2.234436  25.693557\n",
            "2    good  310  2.346410  23.222915\n",
            "3  friend  313  2.604518  22.645860\n",
            "4    year  332  2.295591  22.443357\n",
            "5     day  317  2.341682  21.971088\n",
            "6   thing  288  2.467159  20.546147\n",
            "7    life  240  2.629364  20.058654\n",
            "8   today  151  2.997788  13.979107\n",
            "9     new  133  3.034829  13.256468\n",
            "\n",
            "Words with lowest TF-IDF score\n",
            "\n",
            "            word  tf       idf     tfidf\n",
            "4432    takeaway   1  7.005121  0.065258\n",
            "4433     tension   1  7.005121  0.065258\n",
            "4434      tragic   1  7.005121  0.065258\n",
            "4435      tricky   1  7.005121  0.065258\n",
            "4436    unending   1  7.005121  0.065258\n",
            "4437     unkempt   1  7.005121  0.065258\n",
            "4438    upstairs   1  7.005121  0.065258\n",
            "4439       venue   1  7.005121  0.065258\n",
            "4440  whitestone   1  7.005121  0.065258\n",
            "4441      wiring   1  7.005121  0.065258\n",
            "\n",
            "***  depression  ***\n",
            "\n",
            "Words with highest TF-IDF score\n",
            "\n",
            "         word   tf       idf      tfidf\n",
            "0        life  776  1.871315  41.683183\n",
            "1        time  673  1.947439  35.369950\n",
            "2      people  542  2.167762  33.471345\n",
            "3         day  507  2.203608  31.660433\n",
            "4       thing  551  2.136563  30.494859\n",
            "5      friend  475  2.259908  30.087475\n",
            "6  depression  382  2.248391  29.614694\n",
            "7        year  465  2.229487  26.853282\n",
            "8         bad  358  2.387390  26.487944\n",
            "9        good  346  2.423108  24.214055\n",
            "\n",
            "Words with lowest TF-IDF score\n",
            "\n",
            "            word  tf       idf     tfidf\n",
            "4361     portion   1  7.123589  0.074327\n",
            "4362    relevant   1  7.123589  0.074327\n",
            "4363        sand   1  7.123589  0.074327\n",
            "4364     scatter   1  7.123589  0.074327\n",
            "4365        slim   1  7.123589  0.074327\n",
            "4366       speak   1  7.123589  0.074327\n",
            "4367      typing   1  7.123589  0.074327\n",
            "4368   wasteland   1  7.123589  0.074327\n",
            "4369  watercolor   1  7.123589  0.074327\n",
            "4370  zombielike   1  7.123589  0.074327\n",
            "\n",
            "***  mentalhealth  ***\n",
            "\n"
          ]
        },
        {
          "output_type": "stream",
          "name": "stderr",
          "text": [
            "/usr/local/lib/python3.7/dist-packages/sklearn/utils/deprecation.py:87: FutureWarning: Function get_feature_names is deprecated; get_feature_names is deprecated in 1.0 and will be removed in 1.2. Please use get_feature_names_out instead.\n",
            "  warnings.warn(msg, category=FutureWarning)\n",
            "/usr/local/lib/python3.7/dist-packages/sklearn/utils/deprecation.py:87: FutureWarning: Function get_feature_names is deprecated; get_feature_names is deprecated in 1.0 and will be removed in 1.2. Please use get_feature_names_out instead.\n",
            "  warnings.warn(msg, category=FutureWarning)\n"
          ]
        },
        {
          "output_type": "stream",
          "name": "stdout",
          "text": [
            "Words with highest TF-IDF score\n",
            "\n",
            "     word   tf       idf      tfidf\n",
            "0    time  960  1.764456  38.150944\n",
            "1   thing  805  1.942439  34.279183\n",
            "2  people  656  2.111858  33.324555\n",
            "3     bad  553  2.111858  32.253472\n",
            "4    life  587  2.143110  32.104429\n",
            "5     day  649  2.090548  31.356738\n",
            "6  friend  595  2.253776  29.552506\n",
            "7    year  594  2.099625  29.367486\n",
            "8  mental  410  2.327338  28.274732\n",
            "9    good  410  2.350505  24.781521\n",
            "\n",
            "Words with lowest TF-IDF score\n",
            "\n",
            "              word  tf       idf     tfidf\n",
            "5379          teeh   1  7.202536  0.052488\n",
            "5380   temperature   1  7.202536  0.052488\n",
            "5381  thunderstorm   1  7.202536  0.052488\n",
            "5382          ting   1  7.202536  0.052488\n",
            "5383        toearn   1  7.202536  0.052488\n",
            "5384         tonbe   1  7.202536  0.052488\n",
            "5385           tor   1  7.202536  0.052488\n",
            "5386     vegetabel   1  7.202536  0.052488\n",
            "5387           wit   1  7.202536  0.052488\n",
            "5388           wnd   1  7.202536  0.052488\n",
            "\n",
            "***  SuicideWatch  ***\n",
            "\n"
          ]
        },
        {
          "output_type": "stream",
          "name": "stderr",
          "text": [
            "/usr/local/lib/python3.7/dist-packages/sklearn/utils/deprecation.py:87: FutureWarning: Function get_feature_names is deprecated; get_feature_names is deprecated in 1.0 and will be removed in 1.2. Please use get_feature_names_out instead.\n",
            "  warnings.warn(msg, category=FutureWarning)\n"
          ]
        },
        {
          "output_type": "stream",
          "name": "stdout",
          "text": [
            "Words with highest TF-IDF score\n",
            "\n",
            "      word   tf       idf      tfidf\n",
            "0     life  799  1.864869  46.801587\n",
            "1   people  544  2.263062  36.076853\n",
            "2     time  491  2.234488  32.694601\n",
            "3   friend  377  2.374074  31.170347\n",
            "4    thing  434  2.362002  30.148762\n",
            "5      day  369  2.432424  29.261930\n",
            "6      bad  322  2.541128  28.279048\n",
            "7     year  434  2.338285  27.521616\n",
            "8  suicide  249  2.741799  23.756000\n",
            "9      way  234  2.701679  22.379965\n",
            "\n",
            "Words with lowest TF-IDF score\n",
            "\n",
            "              word  tf       idf    tfidf\n",
            "4146      stagnant   1  7.190315  0.05856\n",
            "4147       stillim   1  7.190315  0.05856\n",
            "4148  stresstrauma   1  7.190315  0.05856\n",
            "4149         trade   1  7.190315  0.05856\n",
            "4150       trivial   1  7.190315  0.05856\n",
            "4151    ungrateful   1  7.190315  0.05856\n",
            "4152  unreasonable   1  7.190315  0.05856\n",
            "4153          wand   1  7.190315  0.05856\n",
            "4154     warranted   1  7.190315  0.05856\n",
            "4155     withstand   1  7.190315  0.05856\n",
            "\n",
            "***  Anxiety  ***\n",
            "\n"
          ]
        },
        {
          "output_type": "stream",
          "name": "stderr",
          "text": [
            "/usr/local/lib/python3.7/dist-packages/sklearn/utils/deprecation.py:87: FutureWarning: Function get_feature_names is deprecated; get_feature_names is deprecated in 1.0 and will be removed in 1.2. Please use get_feature_names_out instead.\n",
            "  warnings.warn(msg, category=FutureWarning)\n",
            "/usr/local/lib/python3.7/dist-packages/sklearn/utils/deprecation.py:87: FutureWarning: Function get_feature_names is deprecated; get_feature_names is deprecated in 1.0 and will be removed in 1.2. Please use get_feature_names_out instead.\n",
            "  warnings.warn(msg, category=FutureWarning)\n"
          ]
        },
        {
          "output_type": "stream",
          "name": "stdout",
          "text": [
            "Words with highest TF-IDF score\n",
            "\n",
            "      word    tf       idf      tfidf\n",
            "0  anxiety  1370  1.469003  63.302036\n",
            "1     time   612  2.017877  34.260442\n",
            "2      bad   477  2.173414  32.439239\n",
            "3      day   485  2.186443  31.823354\n",
            "4   attack   359  2.508592  30.399652\n",
            "5  anxious   326  2.421958  29.443654\n",
            "6    thing   451  2.254266  28.114413\n",
            "7   people   340  2.554897  25.222884\n",
            "8    panic   278  2.724971  24.726608\n",
            "9     year   366  2.460017  24.308887\n",
            "\n",
            "Words with lowest TF-IDF score\n",
            "\n",
            "             word  tf       idf    tfidf\n",
            "4436      refrain   1  7.213608  0.06547\n",
            "4437     rhetoric   1  7.213608  0.06547\n",
            "4438         slab   1  7.213608  0.06547\n",
            "4439    spotlight   1  7.213608  0.06547\n",
            "4440         tank   1  7.213608  0.06547\n",
            "4441   ubiquitous   1  7.213608  0.06547\n",
            "4442  unrelenting   1  7.213608  0.06547\n",
            "4443       vacuum   1  7.213608  0.06547\n",
            "4444      wakeful   1  7.213608  0.06547\n",
            "4445  wakefulness   1  7.213608  0.06547\n",
            "\n",
            "***  bipolar  ***\n",
            "\n",
            "Words with highest TF-IDF score\n",
            "\n",
            "      word   tf       idf      tfidf\n",
            "0  bipolar  155  2.277843  11.599598\n",
            "1     time  187  2.032720  11.153647\n",
            "2    thing  139  2.266793  10.588670\n",
            "3      day  153  2.289016  10.519972\n",
            "4  episode  100  2.558145   9.215791\n",
            "5     year  125  2.408204   9.110872\n",
            "6    manic  108  2.543546   8.916726\n",
            "7   people  111  2.587998   8.603160\n",
            "8     week   93  2.500986   8.492524\n",
            "9     good   95  2.460164   7.930986\n",
            "\n",
            "Words with lowest TF-IDF score\n",
            "\n",
            "           word  tf       idf     tfidf\n",
            "2592     unfair   1  6.084505  0.062012\n",
            "2593     unrest   1  6.084505  0.062012\n",
            "2594     untold   1  6.084505  0.062012\n",
            "2595  untreated   1  6.084505  0.062012\n",
            "2596      venus   1  6.084505  0.062012\n",
            "2597     vision   1  6.084505  0.062012\n",
            "2598     willis   1  6.084505  0.062012\n",
            "2599       wind   1  6.084505  0.062012\n",
            "2600       wise   1  6.084505  0.062012\n",
            "2601      youth   1  6.084505  0.062012\n",
            "\n",
            "***  BPD  ***\n",
            "\n"
          ]
        },
        {
          "output_type": "stream",
          "name": "stderr",
          "text": [
            "/usr/local/lib/python3.7/dist-packages/sklearn/utils/deprecation.py:87: FutureWarning: Function get_feature_names is deprecated; get_feature_names is deprecated in 1.0 and will be removed in 1.2. Please use get_feature_names_out instead.\n",
            "  warnings.warn(msg, category=FutureWarning)\n"
          ]
        },
        {
          "output_type": "stream",
          "name": "stdout",
          "text": [
            "Words with highest TF-IDF score\n",
            "\n",
            "           word   tf       idf      tfidf\n",
            "0          time  864  1.775040  39.483285\n",
            "1        people  721  1.988926  38.064972\n",
            "2         thing  782  1.883566  36.759716\n",
            "3        friend  492  2.386294  30.549789\n",
            "4          life  497  2.226400  30.374422\n",
            "5  relationship  470  2.419084  28.946461\n",
            "6           day  493  2.216143  28.176336\n",
            "7           bad  414  2.327569  27.630922\n",
            "8          year  434  2.305012  26.560298\n",
            "9          good  392  2.286595  26.315855\n",
            "\n",
            "Words with lowest TF-IDF score\n",
            "\n",
            "              word  tf       idf     tfidf\n",
            "4859        reader   1  7.206576  0.055536\n",
            "4860  reevaluation   1  7.206576  0.055536\n",
            "4861   retaliation   1  7.206576  0.055536\n",
            "4862        screed   1  7.206576  0.055536\n",
            "4863        specie   1  7.206576  0.055536\n",
            "4864       ugliest   1  7.206576  0.055536\n",
            "4865       unequal   1  7.206576  0.055536\n",
            "4866    unwavering   1  7.206576  0.055536\n",
            "4867         whine   1  7.206576  0.055536\n",
            "4868         wound   1  7.206576  0.055536\n",
            "\n"
          ]
        }
      ],
      "source": [
        "for subreddit in list(set(df_preprocessing['subreddit'])):\n",
        "    print('*** ', subreddit, ' ***')\n",
        "    print()\n",
        "    tfidf_score(data=df_preprocessing[df_preprocessing['subreddit']==subreddit]['lemmatization_nuon_adj'])\n",
        "    print()"
      ]
    },
    {
      "cell_type": "markdown",
      "metadata": {
        "id": "9d7riotUf7-3"
      },
      "source": [
        "Aggregate all the documents belonging to the same subreddit in one single document and repeat the procedure above. In this way, the TF-IDF will give a bigger weight to common words within a subreddit which are uncommon in other subreddits."
      ]
    },
    {
      "cell_type": "code",
      "execution_count": 57,
      "metadata": {
        "colab": {
          "base_uri": "https://localhost:8080/"
        },
        "id": "n_SfKNkRf7-3",
        "outputId": "094568ba-918e-4232-90fa-137ef9f01a99"
      },
      "outputs": [
        {
          "output_type": "stream",
          "name": "stdout",
          "text": [
            "Words with highest TF-IDF score\n",
            "\n",
            "         word   tf       idf     tfidf\n",
            "0       manic  161  1.287682  0.222660\n",
            "1   worthless   98  1.287682  0.183808\n",
            "2    headache   49  1.287682  0.159596\n",
            "3   inpatient   32  1.287682  0.156797\n",
            "4  meaningful   44  1.287682  0.148749\n",
            "5   psychosis   31  1.470004  0.146958\n",
            "6         gun   59  1.287682  0.143769\n",
            "7      dosage   32  1.287682  0.142628\n",
            "8    dramatic   41  1.287682  0.141816\n",
            "9   pointless   50  1.287682  0.141703\n",
            "\n",
            "Words with lowest TF-IDF score\n",
            "\n",
            "           word  tf       idf     tfidf\n",
            "10654  workpart   1  2.386294  0.015579\n",
            "10655   wrecked   1  2.386294  0.015579\n",
            "10656   wrecker   1  2.386294  0.015579\n",
            "10657      xbox   1  2.386294  0.015579\n",
            "10658      yayy   1  2.386294  0.015579\n",
            "10659  youngbut   1  2.386294  0.015579\n",
            "10660      zero   1  2.386294  0.015579\n",
            "10661    zoning   1  2.386294  0.015579\n",
            "10662      zwie   1  2.386294  0.015579\n",
            "10663   zyprexa   1  2.386294  0.015579\n"
          ]
        },
        {
          "output_type": "stream",
          "name": "stderr",
          "text": [
            "/usr/local/lib/python3.7/dist-packages/sklearn/utils/deprecation.py:87: FutureWarning: Function get_feature_names is deprecated; get_feature_names is deprecated in 1.0 and will be removed in 1.2. Please use get_feature_names_out instead.\n",
            "  warnings.warn(msg, category=FutureWarning)\n"
          ]
        }
      ],
      "source": [
        "document_list = []\n",
        "\n",
        "for subreddit in list(set(df_preprocessing['subreddit'])):\n",
        "    document_list.append(' '.join(df_preprocessing[df_preprocessing['subreddit']==subreddit]['lemmatization_nuon_adj']))\n",
        "    \n",
        "tfidf_score(data=document_list)"
      ]
    },
    {
      "cell_type": "code",
      "execution_count": 58,
      "metadata": {
        "colab": {
          "base_uri": "https://localhost:8080/"
        },
        "id": "c0zOv5J9f7-3",
        "outputId": "bdaa3fa7-1957-45a8-d53a-5ed8bb685f08"
      },
      "outputs": [
        {
          "output_type": "stream",
          "name": "stdout",
          "text": [
            "Words with highest TF-IDF score\n",
            "\n",
            "         word   tf       idf     tfidf\n",
            "0       manic  161  1.287682  0.222660\n",
            "1   worthless   98  1.287682  0.183808\n",
            "2    headache   49  1.287682  0.159596\n",
            "3   inpatient   32  1.287682  0.156797\n",
            "4  meaningful   44  1.287682  0.148749\n",
            "5   psychosis   31  1.470004  0.146958\n",
            "6         gun   59  1.287682  0.143769\n",
            "7      dosage   32  1.287682  0.142628\n",
            "8    dramatic   41  1.287682  0.141816\n",
            "9   pointless   50  1.287682  0.141703\n",
            "\n",
            "Words with lowest TF-IDF score\n",
            "\n",
            "           word  tf       idf     tfidf\n",
            "10654  workpart   1  2.386294  0.015579\n",
            "10655   wrecked   1  2.386294  0.015579\n",
            "10656   wrecker   1  2.386294  0.015579\n",
            "10657      xbox   1  2.386294  0.015579\n",
            "10658      yayy   1  2.386294  0.015579\n",
            "10659  youngbut   1  2.386294  0.015579\n",
            "10660      zero   1  2.386294  0.015579\n",
            "10661    zoning   1  2.386294  0.015579\n",
            "10662      zwie   1  2.386294  0.015579\n",
            "10663   zyprexa   1  2.386294  0.015579\n"
          ]
        },
        {
          "output_type": "stream",
          "name": "stderr",
          "text": [
            "/usr/local/lib/python3.7/dist-packages/sklearn/utils/deprecation.py:87: FutureWarning: Function get_feature_names is deprecated; get_feature_names is deprecated in 1.0 and will be removed in 1.2. Please use get_feature_names_out instead.\n",
            "  warnings.warn(msg, category=FutureWarning)\n"
          ]
        }
      ],
      "source": [
        "document_list = []\n",
        "\n",
        "for subreddit in list(set(df_preprocessing['subreddit'])):\n",
        "    \n",
        "    if subreddit in ['CasualConversation', 'mentalhealth']:\n",
        "        pass\n",
        "    \n",
        "    document_list.append(' '.join(df_preprocessing[df_preprocessing['subreddit']==subreddit]['lemmatization_nuon_adj']))\n",
        "    \n",
        "tfidf_score(data=document_list)"
      ]
    },
    {
      "cell_type": "markdown",
      "metadata": {
        "id": "dhec40DHf7-3"
      },
      "source": [
        "## 3.2 Word Embeddings + Dimensionality Reduction\n"
      ]
    },
    {
      "cell_type": "code",
      "execution_count": 59,
      "metadata": {
        "colab": {
          "base_uri": "https://localhost:8080/"
        },
        "id": "oVKcKmF4f7-3",
        "outputId": "4b8a21fc-1553-4a1d-91c0-ce1dedaf5df0"
      },
      "outputs": [
        {
          "output_type": "execute_result",
          "data": {
            "text/plain": [
              "(0, 0)"
            ]
          },
          "metadata": {},
          "execution_count": 59
        }
      ],
      "source": [
        "from gensim.models import Word2Vec\n",
        "\n",
        "corpus = df_preprocessing['lemmatization_nuon_adj'].apply(lambda x: x.split()).tolist()\n",
        "\n",
        "w2v_model = Word2Vec(size=100, \n",
        "                     window=15, \n",
        "                     sample=0.0001, \n",
        "                     iter=200, \n",
        "                     negative=5, \n",
        "                     min_count=100, \n",
        "                     workers=-1, \n",
        "                     hs=0)\n",
        "\n",
        "w2v_model.build_vocab(corpus)\n",
        "\n",
        "w2v_model.train(corpus, \n",
        "                total_examples=w2v_model.corpus_count, \n",
        "                epochs=w2v_model.epochs)"
      ]
    },
    {
      "cell_type": "code",
      "execution_count": 60,
      "metadata": {
        "colab": {
          "base_uri": "https://localhost:8080/"
        },
        "id": "xCNjy0Nhf7-4",
        "outputId": "e114ac1e-8744-4d29-9660-d12e3a29f673"
      },
      "outputs": [
        {
          "output_type": "stream",
          "name": "stdout",
          "text": [
            "[('similar', 0.292942076921463), ('middle', 0.2913888096809387), ('video', 0.27797001600265503), ('vent', 0.24051180481910706), ('hurt', 0.2363889217376709), ('name', 0.21842443943023682), ('picture', 0.20933866500854492), ('hobby', 0.20926374197006226), ('serious', 0.20787405967712402), ('eye', 0.2053006887435913)]\n"
          ]
        }
      ],
      "source": [
        "print(w2v_model.wv.most_similar('suicide', topn=10))"
      ]
    },
    {
      "cell_type": "code",
      "execution_count": 61,
      "metadata": {
        "colab": {
          "base_uri": "https://localhost:8080/"
        },
        "id": "WPDQpzl4f7-4",
        "outputId": "eb73b955-a6d0-4107-8e3c-eebb37cea028"
      },
      "outputs": [
        {
          "output_type": "stream",
          "name": "stdout",
          "text": [
            "-0.26931787\n"
          ]
        }
      ],
      "source": [
        "print(w2v_model.wv.similarity('depression', 'anxiety'))"
      ]
    },
    {
      "cell_type": "markdown",
      "metadata": {
        "id": "kUS35Vn1f7-5"
      },
      "source": [
        "### BINARY LABELLING: normal vs. mental health related post"
      ]
    },
    {
      "cell_type": "code",
      "execution_count": 62,
      "metadata": {
        "id": "6EOqtPVkf7-5"
      },
      "outputs": [],
      "source": [
        "def binary_label(text):\n",
        "    if text == 'CasualConversation':\n",
        "        return 0\n",
        "    return 1\n",
        "\n",
        "binary_labels = df_preprocessing.subreddit.apply(lambda x: binary_label(x))"
      ]
    },
    {
      "cell_type": "markdown",
      "metadata": {
        "id": "II16cx1qf7-6"
      },
      "source": [
        "### PROBLEM SPECIFIC: anxiety vs. depression vs. suicide"
      ]
    },
    {
      "cell_type": "code",
      "execution_count": 63,
      "metadata": {
        "id": "hBcuU184f7-6"
      },
      "outputs": [],
      "source": [
        "problem_specific = df_preprocessing[df_preprocessing['subreddit'].isin(['Anxiety', 'depression', 'SuicideWatch'])]"
      ]
    },
    {
      "cell_type": "markdown",
      "metadata": {
        "id": "PzjdA9jrf7-9"
      },
      "source": [
        "## 3.4 Sentiment Analysis\n"
      ]
    },
    {
      "cell_type": "code",
      "execution_count": 64,
      "metadata": {
        "colab": {
          "base_uri": "https://localhost:8080/"
        },
        "id": "O6rQFTF-f7-9",
        "outputId": "037babf9-26e7-4b93-b996-37b1419ec417"
      },
      "outputs": [
        {
          "output_type": "stream",
          "name": "stdout",
          "text": [
            "[nltk_data] Downloading package vader_lexicon to /root/nltk_data...\n"
          ]
        },
        {
          "output_type": "stream",
          "name": "stderr",
          "text": [
            "/usr/local/lib/python3.7/dist-packages/nltk/twitter/__init__.py:20: UserWarning: The twython library has not been installed. Some functionality from the twitter package will not be available.\n",
            "  warnings.warn(\"The twython library has not been installed. \"\n"
          ]
        }
      ],
      "source": [
        "import nltk\n",
        "nltk.download('vader_lexicon')\n",
        "from nltk.sentiment.vader import SentimentIntensityAnalyzer\n",
        "sid = SentimentIntensityAnalyzer()"
      ]
    },
    {
      "cell_type": "code",
      "execution_count": 65,
      "metadata": {
        "id": "5KmSTSVIf7--"
      },
      "outputs": [],
      "source": [
        "def compute_polarity_score(text):\n",
        "    return sid.polarity_scores(text)['compound']"
      ]
    },
    {
      "cell_type": "code",
      "execution_count": 66,
      "metadata": {
        "id": "f2P5-5TXf7--"
      },
      "outputs": [],
      "source": [
        "df_preprocessing['full_text_score'] = df_preprocessing['full_text'].apply(lambda x: compute_polarity_score(x))"
      ]
    },
    {
      "cell_type": "code",
      "execution_count": 67,
      "metadata": {
        "colab": {
          "base_uri": "https://localhost:8080/"
        },
        "id": "2EhUH3_Wf7--",
        "outputId": "c81a943c-670a-4ea5-c2b2-f892d06ce01a"
      },
      "outputs": [
        {
          "output_type": "execute_result",
          "data": {
            "text/plain": [
              "subreddit\n",
              "Anxiety              -0.299654\n",
              "BPD                  -0.164370\n",
              "CasualConversation    0.463318\n",
              "SuicideWatch         -0.454364\n",
              "bipolar              -0.126417\n",
              "depression           -0.329304\n",
              "mentalhealth         -0.215311\n",
              "Name: full_text_score, dtype: float64"
            ]
          },
          "metadata": {},
          "execution_count": 67
        }
      ],
      "source": [
        "df_preprocessing.groupby('subreddit').mean()['full_text_score']"
      ]
    },
    {
      "cell_type": "code",
      "execution_count": 68,
      "metadata": {
        "colab": {
          "base_uri": "https://localhost:8080/",
          "height": 282
        },
        "id": "QpB4vvI4f7--",
        "outputId": "48ba976c-4f03-45e0-ab16-c2e3dd912c77"
      },
      "outputs": [
        {
          "output_type": "execute_result",
          "data": {
            "text/plain": [
              "<matplotlib.axes._subplots.AxesSubplot at 0x7f55a6936650>"
            ]
          },
          "metadata": {},
          "execution_count": 68
        },
        {
          "output_type": "display_data",
          "data": {
            "text/plain": [
              "<Figure size 432x288 with 1 Axes>"
            ],
            "image/png": "[encoded data removed]"
          },
          "metadata": {
            "needs_background": "light"
          }
        }
      ],
      "source": [
        "df_preprocessing[df_preprocessing['subreddit']=='depression']['full_text_score'].plot.hist(bins=12, alpha=0.5)"
      ]
    },
    {
      "cell_type": "code",
      "execution_count": 69,
      "metadata": {
        "colab": {
          "base_uri": "https://localhost:8080/",
          "height": 282
        },
        "id": "i8JXYzZ3f7--",
        "outputId": "e987f71b-2a3a-484c-ca79-badd285a6534"
      },
      "outputs": [
        {
          "output_type": "execute_result",
          "data": {
            "text/plain": [
              "<matplotlib.axes._subplots.AxesSubplot at 0x7f55a6a71950>"
            ]
          },
          "metadata": {},
          "execution_count": 69
        },
        {
          "output_type": "display_data",
          "data": {
            "text/plain": [
              "<Figure size 432x288 with 1 Axes>"
            ],
            "image/png": "[encoded data removed]"
          },
          "metadata": {
            "needs_background": "light"
          }
        }
      ],
      "source": [
        "df_preprocessing[df_preprocessing['subreddit']=='Anxiety']['full_text_score'].plot.hist(bins=12, alpha=0.5)"
      ]
    },
    {
      "cell_type": "code",
      "execution_count": 70,
      "metadata": {
        "colab": {
          "base_uri": "https://localhost:8080/",
          "height": 282
        },
        "id": "zfah5stcf7-_",
        "outputId": "c28fd801-85c1-4bfe-de2e-cc36abe1c590"
      },
      "outputs": [
        {
          "output_type": "execute_result",
          "data": {
            "text/plain": [
              "<matplotlib.axes._subplots.AxesSubplot at 0x7f55a6041f50>"
            ]
          },
          "metadata": {},
          "execution_count": 70
        },
        {
          "output_type": "display_data",
          "data": {
            "text/plain": [
              "<Figure size 432x288 with 1 Axes>"
            ],
            "image/png": "[encoded data removed]"
          },
          "metadata": {
            "needs_background": "light"
          }
        }
      ],
      "source": [
        "df_preprocessing[df_preprocessing['subreddit']=='bipolar']['full_text_score'].plot.hist(bins=12, alpha=0.5)"
      ]
    },
    {
      "cell_type": "code",
      "execution_count": 71,
      "metadata": {
        "colab": {
          "base_uri": "https://localhost:8080/",
          "height": 282
        },
        "id": "ldnw90EZf7-_",
        "outputId": "f600f642-f7e7-4337-8f81-2574eb87850b"
      },
      "outputs": [
        {
          "output_type": "execute_result",
          "data": {
            "text/plain": [
              "<matplotlib.axes._subplots.AxesSubplot at 0x7f55a670c310>"
            ]
          },
          "metadata": {},
          "execution_count": 71
        },
        {
          "output_type": "display_data",
          "data": {
            "text/plain": [
              "<Figure size 432x288 with 1 Axes>"
            ],
            "image/png": "[encoded data removed]"
          },
          "metadata": {
            "needs_background": "light"
          }
        }
      ],
      "source": [
        "df_preprocessing[df_preprocessing['subreddit']=='SuicideWatch']['full_text_score'].plot.hist(bins=12, alpha=0.5)"
      ]
    },
    {
      "cell_type": "code",
      "execution_count": 72,
      "metadata": {
        "colab": {
          "base_uri": "https://localhost:8080/",
          "height": 282
        },
        "id": "30KRqnojf7-_",
        "outputId": "58864399-ee73-4b64-80e8-66fb39e5c827"
      },
      "outputs": [
        {
          "output_type": "execute_result",
          "data": {
            "text/plain": [
              "<matplotlib.axes._subplots.AxesSubplot at 0x7f55a4787b50>"
            ]
          },
          "metadata": {},
          "execution_count": 72
        },
        {
          "output_type": "display_data",
          "data": {
            "text/plain": [
              "<Figure size 432x288 with 1 Axes>"
            ],
            "image/png": "[encoded data removed]"
          },
          "metadata": {
            "needs_background": "light"
          }
        }
      ],
      "source": [
        "df_preprocessing[df_preprocessing['subreddit']=='BPD']['full_text_score'].plot.hist(bins=12, alpha=0.5)"
      ]
    },
    {
      "cell_type": "code",
      "execution_count": 73,
      "metadata": {
        "colab": {
          "base_uri": "https://localhost:8080/",
          "height": 282
        },
        "id": "hBvHdL1Sf7-_",
        "outputId": "8a99e55d-f97c-4adb-8c6f-2dedd0cb43f0"
      },
      "outputs": [
        {
          "output_type": "execute_result",
          "data": {
            "text/plain": [
              "<matplotlib.axes._subplots.AxesSubplot at 0x7f55a4792e90>"
            ]
          },
          "metadata": {},
          "execution_count": 73
        },
        {
          "output_type": "display_data",
          "data": {
            "text/plain": [
              "<Figure size 432x288 with 1 Axes>"
            ],
            "image/png": "[encoded data removed]"
          },
          "metadata": {
            "needs_background": "light"
          }
        }
      ],
      "source": [
        "df_preprocessing[df_preprocessing['subreddit']=='CasualConversation']['full_text_score'].plot.hist(bins=12, alpha=0.5)"
      ]
    },
    {
      "cell_type": "markdown",
      "metadata": {
        "id": "vHqsfi1Tf7_A"
      },
      "source": [
        "# 4. Prediction \n",
        "\n",
        "## 4.1 Classification "
      ]
    },
    {
      "cell_type": "code",
      "execution_count": 74,
      "metadata": {
        "id": "C-goSVTHf7_A"
      },
      "outputs": [],
      "source": [
        "from sklearn.model_selection import train_test_split"
      ]
    },
    {
      "cell_type": "markdown",
      "metadata": {
        "id": "ua5Itakxf7_A"
      },
      "source": [
        "## Case 1: Binary classification: healthy vs. non healthy"
      ]
    },
    {
      "cell_type": "code",
      "execution_count": 75,
      "metadata": {
        "id": "Q2pqJLwif7_A"
      },
      "outputs": [],
      "source": [
        "def binary_label(text):\n",
        "    if text == 'CasualConversation':\n",
        "        return 0\n",
        "    return 1\n",
        "\n",
        "binary_labels = df_preprocessing.subreddit.apply(lambda x: binary_label(x))"
      ]
    },
    {
      "cell_type": "code",
      "execution_count": 76,
      "metadata": {
        "id": "sr6VUXDHf7_A"
      },
      "outputs": [],
      "source": [
        "X = df_preprocessing.lemmatization_nuon_adj\n",
        "y = df_preprocessing.subreddit.apply(lambda x: binary_label(x))\n",
        "\n",
        "X_train_binary, X_test_binary, y_train_binary, y_test_binary = train_test_split(X, y, test_size=0.4, random_state=0)\n",
        "\n",
        "X_dev_binary, X_test_binary, y_dev_binary, y_test_binary = train_test_split(X_test_binary, y_test_binary, test_size=0.5, random_state=0)"
      ]
    },
    {
      "cell_type": "markdown",
      "metadata": {
        "id": "Q9fJQx-nf7_A"
      },
      "source": [
        "### Most-frequent-label Classifier"
      ]
    },
    {
      "cell_type": "code",
      "execution_count": 77,
      "metadata": {
        "id": "_D_EKc7nf7_A"
      },
      "outputs": [],
      "source": [
        "from sklearn.metrics import classification_report\n",
        "from sklearn.dummy import DummyClassifier"
      ]
    },
    {
      "cell_type": "code",
      "execution_count": 78,
      "metadata": {
        "id": "2BfMZjUGf7_B"
      },
      "outputs": [],
      "source": [
        "def most_frequent_classifier(X_train, X_dev, y_train, y_dev, preds=False):\n",
        "    \n",
        "    most_frequent = DummyClassifier(strategy='most_frequent')\n",
        "    most_frequent.fit(X_train, y_train)\n",
        "    \n",
        "    dumb_predictions = most_frequent.predict(X_dev)\n",
        "\n",
        "    print(classification_report(y_dev, dumb_predictions))\n",
        "    \n",
        "    if preds:\n",
        "        return dumb_predictions"
      ]
    },
    {
      "cell_type": "code",
      "execution_count": 79,
      "metadata": {
        "colab": {
          "base_uri": "https://localhost:8080/"
        },
        "id": "EPqLNX2Cf7_B",
        "outputId": "b6c335cb-ac71-4ef6-ae64-2c94c2f57c26"
      },
      "outputs": [
        {
          "output_type": "stream",
          "name": "stdout",
          "text": [
            "              precision    recall  f1-score   support\n",
            "\n",
            "           0       0.00      0.00      0.00       157\n",
            "           1       0.87      1.00      0.93      1042\n",
            "\n",
            "    accuracy                           0.87      1199\n",
            "   macro avg       0.43      0.50      0.46      1199\n",
            "weighted avg       0.76      0.87      0.81      1199\n",
            "\n"
          ]
        },
        {
          "output_type": "stream",
          "name": "stderr",
          "text": [
            "/usr/local/lib/python3.7/dist-packages/sklearn/metrics/_classification.py:1318: UndefinedMetricWarning: Precision and F-score are ill-defined and being set to 0.0 in labels with no predicted samples. Use `zero_division` parameter to control this behavior.\n",
            "  _warn_prf(average, modifier, msg_start, len(result))\n",
            "/usr/local/lib/python3.7/dist-packages/sklearn/metrics/_classification.py:1318: UndefinedMetricWarning: Precision and F-score are ill-defined and being set to 0.0 in labels with no predicted samples. Use `zero_division` parameter to control this behavior.\n",
            "  _warn_prf(average, modifier, msg_start, len(result))\n",
            "/usr/local/lib/python3.7/dist-packages/sklearn/metrics/_classification.py:1318: UndefinedMetricWarning: Precision and F-score are ill-defined and being set to 0.0 in labels with no predicted samples. Use `zero_division` parameter to control this behavior.\n",
            "  _warn_prf(average, modifier, msg_start, len(result))\n"
          ]
        }
      ],
      "source": [
        "most_frequent_classifier(X_train_binary, X_dev_binary, y_train_binary, y_dev_binary)"
      ]
    },
    {
      "cell_type": "markdown",
      "metadata": {
        "id": "Nme0eEiTf7_B"
      },
      "source": [
        "### The Hulk with TF-IDF at post-level"
      ]
    },
    {
      "cell_type": "code",
      "execution_count": 80,
      "metadata": {
        "id": "KvgfCF4bf7_B"
      },
      "outputs": [],
      "source": [
        "from sklearn.linear_model import LogisticRegression"
      ]
    },
    {
      "cell_type": "code",
      "execution_count": 81,
      "metadata": {
        "id": "xtgC_wdnf7_B"
      },
      "outputs": [],
      "source": [
        "def hulk_vectorization_post(X_train, X_dev, X_test):\n",
        "    \n",
        "    vectorizer = TfidfVectorizer(ngram_range=(2,6), \n",
        "                                 min_df=0.001, \n",
        "                                 max_df=0.7, \n",
        "                                 analyzer='char',\n",
        "                                 sublinear_tf=True)\n",
        "\n",
        "    X_train = vectorizer.fit_transform(X_train)\n",
        "    X_dev = vectorizer.transform(X_dev)\n",
        "    X_test = vectorizer.transform(X_test)\n",
        "    \n",
        "    return X_train, X_dev, X_test"
      ]
    },
    {
      "cell_type": "code",
      "execution_count": 82,
      "metadata": {
        "id": "-hEhJ0aHf7_B"
      },
      "outputs": [],
      "source": [
        "def hulk(X_train, X_dev, y_train, y_dev, model=None, preds=False):\n",
        "        \n",
        "    \n",
        "    if model is None:\n",
        "        classifier = LogisticRegression(n_jobs=-1, multi_class='auto', solver='lbfgs')\n",
        "    else:\n",
        "        classifier = model\n",
        "    \n",
        "    classifier.fit(X_train, y_train)\n",
        "    \n",
        "    predictions = classifier.predict(X_dev)\n",
        "    print(classification_report(y_dev, predictions))\n",
        "    \n",
        "    if preds:\n",
        "        return predictions"
      ]
    },
    {
      "cell_type": "code",
      "execution_count": 83,
      "metadata": {
        "id": "M8l6WF9kf7_C"
      },
      "outputs": [],
      "source": [
        "X_train_binary_post, X_dev_binary_post, X_test_binary_post = hulk_vectorization_post(X_train_binary, X_dev_binary, X_test_binary)"
      ]
    },
    {
      "cell_type": "code",
      "execution_count": 84,
      "metadata": {
        "colab": {
          "base_uri": "https://localhost:8080/"
        },
        "id": "JGaRDJ8Xf7_C",
        "outputId": "335070b2-1f39-4206-f6f5-2ea955136231"
      },
      "outputs": [
        {
          "output_type": "stream",
          "name": "stdout",
          "text": [
            "              precision    recall  f1-score   support\n",
            "\n",
            "           0       1.00      0.04      0.07       157\n",
            "           1       0.87      1.00      0.93      1042\n",
            "\n",
            "    accuracy                           0.87      1199\n",
            "   macro avg       0.94      0.52      0.50      1199\n",
            "weighted avg       0.89      0.87      0.82      1199\n",
            "\n"
          ]
        }
      ],
      "source": [
        "hulk(X_train_binary_post, X_dev_binary_post, y_train_binary, y_dev_binary, model=None)"
      ]
    },
    {
      "cell_type": "markdown",
      "metadata": {
        "id": "Od0e8BWIf7_C"
      },
      "source": [
        "### The Hulk with TF-IDF at document-level"
      ]
    },
    {
      "cell_type": "code",
      "execution_count": 85,
      "metadata": {
        "id": "ABj_AP87f7_C"
      },
      "outputs": [],
      "source": [
        "def hulk_vectorization_docs(X_train, y_train, X_dev, X_test):\n",
        "    \n",
        "    join_train = pd.merge(X_train, y_train, left_index=True, right_index=True)\n",
        "    \n",
        "    document_list = []\n",
        "\n",
        "    for subreddit in list(set(join_train['subreddit'])):\n",
        "        document_list.append(' '.join(join_train[join_train['subreddit']==subreddit]['lemmatization_nuon_adj']))\n",
        "        \n",
        "    vectorizer = TfidfVectorizer(ngram_range=(2,6), \n",
        "                             min_df=0.001, \n",
        "                             max_df=0.7, \n",
        "                             analyzer='char',\n",
        "                             sublinear_tf=True)\n",
        "\n",
        "    vectorizer.fit(document_list) \n",
        "    \n",
        "    X_train_doc = vectorizer.transform(X_train)\n",
        "    X_dev_doc = vectorizer.transform(X_dev)\n",
        "    X_test_doc = vectorizer.transform(X_test)\n",
        "    \n",
        "    return X_train_doc, X_dev_doc, X_test_doc"
      ]
    },
    {
      "cell_type": "code",
      "execution_count": 86,
      "metadata": {
        "id": "CXGHL-rJf7_C"
      },
      "outputs": [],
      "source": [
        "X_train_binary_docs, X_dev_binary_docs, X_test_binary_docs = hulk_vectorization_docs(X_train_binary, y_train_binary, X_dev_binary, X_test_binary)"
      ]
    },
    {
      "cell_type": "code",
      "execution_count": 87,
      "metadata": {
        "colab": {
          "base_uri": "https://localhost:8080/"
        },
        "id": "VIQeeMB2f7_D",
        "outputId": "4d69a0d2-0998-452e-948f-91f791a84f60"
      },
      "outputs": [
        {
          "output_type": "stream",
          "name": "stdout",
          "text": [
            "              precision    recall  f1-score   support\n",
            "\n",
            "           0       0.00      0.00      0.00       157\n",
            "           1       0.87      1.00      0.93      1042\n",
            "\n",
            "    accuracy                           0.87      1199\n",
            "   macro avg       0.43      0.50      0.46      1199\n",
            "weighted avg       0.76      0.87      0.81      1199\n",
            "\n"
          ]
        },
        {
          "output_type": "stream",
          "name": "stderr",
          "text": [
            "/usr/local/lib/python3.7/dist-packages/sklearn/metrics/_classification.py:1318: UndefinedMetricWarning: Precision and F-score are ill-defined and being set to 0.0 in labels with no predicted samples. Use `zero_division` parameter to control this behavior.\n",
            "  _warn_prf(average, modifier, msg_start, len(result))\n",
            "/usr/local/lib/python3.7/dist-packages/sklearn/metrics/_classification.py:1318: UndefinedMetricWarning: Precision and F-score are ill-defined and being set to 0.0 in labels with no predicted samples. Use `zero_division` parameter to control this behavior.\n",
            "  _warn_prf(average, modifier, msg_start, len(result))\n",
            "/usr/local/lib/python3.7/dist-packages/sklearn/metrics/_classification.py:1318: UndefinedMetricWarning: Precision and F-score are ill-defined and being set to 0.0 in labels with no predicted samples. Use `zero_division` parameter to control this behavior.\n",
            "  _warn_prf(average, modifier, msg_start, len(result))\n"
          ]
        }
      ],
      "source": [
        "hulk(X_train_binary_docs, X_dev_binary_docs, y_train_binary, y_dev_binary, model=None)"
      ]
    },
    {
      "cell_type": "code",
      "execution_count": 88,
      "metadata": {
        "id": "_W242kjff7_D"
      },
      "outputs": [],
      "source": [
        "df_reduced = df_preprocessing[df_preprocessing['subreddit'].isin(['depression', 'Anxiety', 'CasualConversation', 'SuicideWatch'])]"
      ]
    },
    {
      "cell_type": "code",
      "execution_count": 89,
      "metadata": {
        "colab": {
          "base_uri": "https://localhost:8080/"
        },
        "id": "abABtkZWf7_D",
        "outputId": "59200e54-11a9-4553-ea0c-a054d6358035"
      },
      "outputs": [
        {
          "output_type": "execute_result",
          "data": {
            "text/plain": [
              "(3695, 9)"
            ]
          },
          "metadata": {},
          "execution_count": 89
        }
      ],
      "source": [
        "df_reduced.shape"
      ]
    },
    {
      "cell_type": "code",
      "execution_count": 90,
      "metadata": {
        "id": "L3QkYGkkf7_D"
      },
      "outputs": [],
      "source": [
        "def generalised_depression_label(x):\n",
        "    if x == 'SuicideWatch':\n",
        "        return 'depression'\n",
        "    return x"
      ]
    },
    {
      "cell_type": "code",
      "execution_count": 91,
      "metadata": {
        "id": "ba0kFi5Gf7_D"
      },
      "outputs": [],
      "source": [
        "X = df_reduced.lemmatization_nuon_adj\n",
        "y = df_reduced.subreddit.apply(lambda x: generalised_depression_label(x))\n",
        "\n",
        "# Split train and test\n",
        "X_train_reduced, X_test_reduced, y_train_reduced, y_test_reduced = train_test_split(X, y, test_size=0.4, random_state=0)\n",
        "\n",
        "# Split test into dev and test\n",
        "X_dev_reduced, X_test_reduced, y_dev_reduced, y_test_reduced = train_test_split(X_test_reduced, y_test_reduced, test_size=0.5, random_state=0)"
      ]
    },
    {
      "cell_type": "markdown",
      "metadata": {
        "id": "wZc-8vYsf7_E"
      },
      "source": [
        "### Most-frequent-label Classifier "
      ]
    },
    {
      "cell_type": "code",
      "execution_count": 92,
      "metadata": {
        "colab": {
          "base_uri": "https://localhost:8080/"
        },
        "id": "twMzn-vlf7_E",
        "outputId": "9b59f129-3aaa-48a4-b681-7c9a0c0ae499"
      },
      "outputs": [
        {
          "output_type": "stream",
          "name": "stdout",
          "text": [
            "                    precision    recall  f1-score   support\n",
            "\n",
            "           Anxiety       0.00      0.00      0.00       204\n",
            "CasualConversation       0.00      0.00      0.00       175\n",
            "        depression       0.49      1.00      0.66       360\n",
            "\n",
            "          accuracy                           0.49       739\n",
            "         macro avg       0.16      0.33      0.22       739\n",
            "      weighted avg       0.24      0.49      0.32       739\n",
            "\n"
          ]
        },
        {
          "output_type": "stream",
          "name": "stderr",
          "text": [
            "/usr/local/lib/python3.7/dist-packages/sklearn/metrics/_classification.py:1318: UndefinedMetricWarning: Precision and F-score are ill-defined and being set to 0.0 in labels with no predicted samples. Use `zero_division` parameter to control this behavior.\n",
            "  _warn_prf(average, modifier, msg_start, len(result))\n",
            "/usr/local/lib/python3.7/dist-packages/sklearn/metrics/_classification.py:1318: UndefinedMetricWarning: Precision and F-score are ill-defined and being set to 0.0 in labels with no predicted samples. Use `zero_division` parameter to control this behavior.\n",
            "  _warn_prf(average, modifier, msg_start, len(result))\n",
            "/usr/local/lib/python3.7/dist-packages/sklearn/metrics/_classification.py:1318: UndefinedMetricWarning: Precision and F-score are ill-defined and being set to 0.0 in labels with no predicted samples. Use `zero_division` parameter to control this behavior.\n",
            "  _warn_prf(average, modifier, msg_start, len(result))\n"
          ]
        }
      ],
      "source": [
        "dumb_predictions = most_frequent_classifier(X_train_reduced, X_dev_reduced, y_train_reduced, y_dev_reduced, preds=True)"
      ]
    },
    {
      "cell_type": "markdown",
      "metadata": {
        "id": "pEUHbeLnf7_E"
      },
      "source": [
        "### The Hulk with TF-IDF at post-level"
      ]
    },
    {
      "cell_type": "code",
      "execution_count": 93,
      "metadata": {
        "id": "Fhf3OxEUf7_E"
      },
      "outputs": [],
      "source": [
        "X_train_reduced_post, X_dev_reduced_post, X_test_reduced_post = hulk_vectorization_post(X_train_reduced, X_dev_reduced, X_test_reduced)"
      ]
    },
    {
      "cell_type": "code",
      "execution_count": 94,
      "metadata": {
        "colab": {
          "base_uri": "https://localhost:8080/"
        },
        "id": "6hLz9bkZf7_E",
        "outputId": "925309f3-ad70-404c-9456-1cba1e347593"
      },
      "outputs": [
        {
          "output_type": "stream",
          "name": "stdout",
          "text": [
            "                    precision    recall  f1-score   support\n",
            "\n",
            "           Anxiety       0.89      0.71      0.79       204\n",
            "CasualConversation       0.80      0.52      0.63       175\n",
            "        depression       0.73      0.95      0.83       360\n",
            "\n",
            "          accuracy                           0.78       739\n",
            "         macro avg       0.81      0.72      0.75       739\n",
            "      weighted avg       0.79      0.78      0.77       739\n",
            "\n"
          ]
        }
      ],
      "source": [
        "hulk_predictions = hulk(X_train_reduced_post, X_dev_reduced_post, y_train_reduced, y_dev_reduced, model=None, preds=True)"
      ]
    },
    {
      "cell_type": "markdown",
      "metadata": {
        "id": "iKKhQWdLf7_E"
      },
      "source": [
        "### The Hulk with TF-IDF at document-level"
      ]
    },
    {
      "cell_type": "code",
      "execution_count": 95,
      "metadata": {
        "id": "l_K7izaof7_E"
      },
      "outputs": [],
      "source": [
        "X_train_reduced_docs, X_dev_reduced_docs, X_test_reduced_docs = hulk_vectorization_docs(X_train_reduced, y_train_reduced, X_dev_reduced, X_test_reduced)"
      ]
    },
    {
      "cell_type": "code",
      "execution_count": 96,
      "metadata": {
        "colab": {
          "base_uri": "https://localhost:8080/"
        },
        "id": "Z_eI2F_qf7_E",
        "outputId": "09161403-da0d-4d1f-d0b1-e5f1ad6dda31"
      },
      "outputs": [
        {
          "output_type": "stream",
          "name": "stdout",
          "text": [
            "                    precision    recall  f1-score   support\n",
            "\n",
            "           Anxiety       0.95      0.37      0.53       204\n",
            "CasualConversation       0.50      0.01      0.01       175\n",
            "        depression       0.55      1.00      0.71       360\n",
            "\n",
            "          accuracy                           0.59       739\n",
            "         macro avg       0.66      0.46      0.42       739\n",
            "      weighted avg       0.65      0.59      0.49       739\n",
            "\n"
          ]
        }
      ],
      "source": [
        "hulk(X_train_reduced_docs, X_dev_reduced_docs, y_train_reduced, y_dev_reduced, model=None)"
      ]
    },
    {
      "cell_type": "markdown",
      "metadata": {
        "id": "ql_6pQHOf7_F"
      },
      "source": [
        "### Improved models"
      ]
    },
    {
      "cell_type": "markdown",
      "metadata": {
        "id": "QLMVy4Wvf7_F"
      },
      "source": [
        "#### a. The Hulk with hyperparameter tuning"
      ]
    },
    {
      "cell_type": "code",
      "execution_count": 97,
      "metadata": {
        "colab": {
          "base_uri": "https://localhost:8080/"
        },
        "id": "Zvx8tdSuf7_F",
        "outputId": "70088ea3-4595-4867-d18f-acdc50a8a39b"
      },
      "outputs": [
        {
          "output_type": "execute_result",
          "data": {
            "text/plain": [
              "GridSearchCV(cv=5, estimator=LogisticRegression(n_jobs=-1),\n",
              "             param_grid={'C': [20, 10, 5, 1, 0.01],\n",
              "                         'class_weight': ['balanced', None]},\n",
              "             scoring='f1_micro')"
            ]
          },
          "metadata": {},
          "execution_count": 97
        }
      ],
      "source": [
        "from sklearn.model_selection import GridSearchCV\n",
        "from sklearn.calibration import CalibratedClassifierCV\n",
        "\n",
        "clf = LogisticRegression(n_jobs=-1)\n",
        "\n",
        "\n",
        "param_grid = {'C': [20, 10, 5, 1, 0.01],\n",
        "              'class_weight': ['balanced', None]}\n",
        "\n",
        "search = GridSearchCV(clf, \n",
        "                      param_grid, \n",
        "                      cv=5, \n",
        "                      scoring='f1_micro') \n",
        "\n",
        "search.fit(X_train_reduced_post, y_train_reduced)"
      ]
    },
    {
      "cell_type": "code",
      "execution_count": 98,
      "metadata": {
        "colab": {
          "base_uri": "https://localhost:8080/"
        },
        "id": "VR8cBkkTf7_F",
        "outputId": "65eac0e1-4a39-4d4b-ade0-7a2c65550308"
      },
      "outputs": [
        {
          "output_type": "stream",
          "name": "stdout",
          "text": [
            "{'C': 1, 'class_weight': 'balanced', 'dual': False, 'fit_intercept': True, 'intercept_scaling': 1, 'l1_ratio': None, 'max_iter': 100, 'multi_class': 'auto', 'n_jobs': -1, 'penalty': 'l2', 'random_state': None, 'solver': 'lbfgs', 'tol': 0.0001, 'verbose': 0, 'warm_start': False}\n"
          ]
        }
      ],
      "source": [
        "clf_best = search.best_estimator_\n",
        "print(clf_best.get_params())"
      ]
    },
    {
      "cell_type": "code",
      "execution_count": 99,
      "metadata": {
        "colab": {
          "base_uri": "https://localhost:8080/"
        },
        "id": "8g2nQsknf7_F",
        "outputId": "3c647411-b9bb-4a1b-e290-d1c900ce6f23"
      },
      "outputs": [
        {
          "output_type": "stream",
          "name": "stdout",
          "text": [
            "0.8164185630325583\n"
          ]
        }
      ],
      "source": [
        "print(search.best_score_)"
      ]
    },
    {
      "cell_type": "code",
      "execution_count": 100,
      "metadata": {
        "colab": {
          "base_uri": "https://localhost:8080/"
        },
        "id": "R8oDdzUFf7_G",
        "outputId": "d49b5c84-ad67-4095-9814-cd2eacd96ca6"
      },
      "outputs": [
        {
          "output_type": "stream",
          "name": "stdout",
          "text": [
            "                    precision    recall  f1-score   support\n",
            "\n",
            "           Anxiety       0.87      0.74      0.80       204\n",
            "CasualConversation       0.62      0.79      0.70       175\n",
            "        depression       0.85      0.81      0.83       360\n",
            "\n",
            "          accuracy                           0.79       739\n",
            "         macro avg       0.78      0.78      0.78       739\n",
            "      weighted avg       0.80      0.79      0.79       739\n",
            "\n"
          ]
        }
      ],
      "source": [
        "clf_best.fit(X_train_reduced_post, y_train_reduced)\n",
        "predictions_a = clf_best.predict(X_dev_reduced_post)\n",
        "print(classification_report(y_dev_reduced, predictions_a))"
      ]
    },
    {
      "cell_type": "markdown",
      "metadata": {
        "id": "_0wZuFtNf7_G"
      },
      "source": [
        "#### b. The Hulk with dimensionality reduction (with best classifier)\n"
      ]
    },
    {
      "cell_type": "code",
      "execution_count": 101,
      "metadata": {
        "colab": {
          "base_uri": "https://localhost:8080/"
        },
        "id": "Bys0qjhnf7_G",
        "outputId": "58d633db-39fa-4b03-8615-89ef46a147a2"
      },
      "outputs": [
        {
          "output_type": "execute_result",
          "data": {
            "text/plain": [
              "(2217, 74003)"
            ]
          },
          "metadata": {},
          "execution_count": 101
        }
      ],
      "source": [
        "X_train_reduced_post.shape"
      ]
    },
    {
      "cell_type": "markdown",
      "metadata": {
        "id": "HD6cKmz5f7_H"
      },
      "source": [
        "### Significance testing"
      ]
    },
    {
      "cell_type": "code",
      "execution_count": 102,
      "metadata": {
        "id": "gLn7tO7qf7_H"
      },
      "outputs": [],
      "source": [
        "import numpy as np\n",
        "from sklearn.metrics import f1_score, precision_score, recall_score\n",
        "\n",
        "def bootstrap_sample(system1, system2, gold, samples=1000, score=f1_score, average='micro'):\n",
        "\n",
        "    N = len(gold) \n",
        "    \n",
        "    assert len(system1) == N and len(system2) == N, 'samples have different lengths'\n",
        "\n",
        "    base_score1 = score(gold, system1, average=average)\n",
        "    base_score2 = score(gold, system2, average=average)\n",
        "    print(\"Base difference: {} vs. {}\".format(base_score1, base_score2))\n",
        "\n",
        "    if base_score2 > base_score1:\n",
        "        system1, system2 = system2, system1\n",
        "        base_score1, base_score2 = base_score2, base_score1\n",
        "    \n",
        "    basedelta = base_score1 - base_score2\n",
        "    assert basedelta > 0, 'Wrong system first, system1 needs to be better!'\n",
        "\n",
        "    system1 = np.array(system1)\n",
        "    system2 = np.array(system2)\n",
        "    gold = np.array(gold)\n",
        "\n",
        "    p = 0\n",
        "    deltas = []\n",
        "    for i in range(samples):\n",
        "        sample = np.random.choice(N, size=N, replace=True)\n",
        "\n",
        "        sample1 = system1[sample]\n",
        "        sample2 = system2[sample]\n",
        "        gold_sample = gold[sample]\n",
        "\n",
        "        sample_score1 = score(gold_sample, sample1, average=average)\n",
        "        sample_score2 = score(gold_sample, sample2, average=average)\n",
        "        sample_delta = sample_score1 - sample_score2\n",
        "\n",
        "        if sample_delta > 2*basedelta:\n",
        "            p += 1\n",
        "        deltas.append(sample_delta)\n",
        "                \n",
        "    return p/samples, deltas"
      ]
    },
    {
      "cell_type": "markdown",
      "metadata": {
        "id": "_l4J-jD4f7_J"
      },
      "source": [
        "# 4.2 Structured Prediction "
      ]
    },
    {
      "cell_type": "code",
      "execution_count": 103,
      "metadata": {
        "id": "AeERFFWaf7_J"
      },
      "outputs": [],
      "source": [
        "import random\n",
        "\n",
        "def generate_topics(num_topics, df=df_preprocessing['lemmatization_nuon_adj']):\n",
        "    \n",
        "    instances = df.apply(str.split).tolist()\n",
        "    \n",
        "    # shuffle instances\n",
        "    random.shuffle(instances)\n",
        "    \n",
        "    phrases = Phrases(instances, min_count=5, threshold=1)\n",
        "    instances_colloc = phrases[instances]\n",
        "\n",
        "    dictionary = Dictionary(instances_colloc)\n",
        "    dictionary.filter_extremes(no_below=50, no_above=0.3)\n",
        "    \n",
        "    ldacorpus = [dictionary.doc2bow(text) for text in instances]\n",
        "    tfidfmodel = TfidfModel(ldacorpus)\n",
        "    model_corpus = tfidfmodel[ldacorpus]\n",
        "    num_passes = 10\n",
        "    chunk_size = len(model_corpus) * num_passes/200\n",
        "    \n",
        "    dev_size = len(df)\n",
        "\n",
        "    model = LdaMulticore(num_topics=num_topics, \n",
        "                         corpus=model_corpus[:dev_size],  \n",
        "                         id2word=dictionary, \n",
        "                         workers=min(10, multiprocessing.cpu_count()-1), \n",
        "                         passes=num_passes, \n",
        "                         chunksize=chunk_size,\n",
        "                         alpha=0.5,\n",
        "                         random_state=42)\n",
        "\n",
        "\n",
        "\n",
        "    topic_corpus = model[model_corpus]\n",
        "\n",
        "    topic_sep = re.compile(\"0\\.[0-9]{3}\\*\")\n",
        "    model_topics = [(topic_no, re.sub(topic_sep, '', model_topic).split(' + ')) \n",
        "                    for topic_no, model_topic in\n",
        "                    model.print_topics(num_topics=num_topics, num_words=20)]\n",
        "\n",
        "    descriptors = []\n",
        "    for i, m in model_topics:\n",
        "        print(i+1, \", \".join(m[:10]))\n",
        "        descriptors.append(\", \".join(m[:10]).replace('\"', ''))\n",
        "    \n",
        "    return model_topics"
      ]
    },
    {
      "cell_type": "code",
      "execution_count": 104,
      "metadata": {
        "id": "reECBimGf7_J"
      },
      "outputs": [],
      "source": [
        "data = df_preprocessing['lemmatization_nuon_adj'].copy()\n",
        "data = data.sample(frac=1)\n",
        "\n",
        "n_splits = 5\n",
        "N = len(data)\n",
        "size = int(N*(1/n_splits)) \n",
        "\n",
        "data_split_list = []\n",
        "\n",
        "for i in range(n_splits):\n",
        "    \n",
        "    start_index = i*size\n",
        "    end_index = (i+1)*size\n",
        "    \n",
        "    data_i = data[start_index:end_index]\n",
        "    \n",
        "    data_split_list.append(data_i)"
      ]
    },
    {
      "cell_type": "code",
      "execution_count": 105,
      "metadata": {
        "colab": {
          "base_uri": "https://localhost:8080/"
        },
        "id": "wwKfRCQvf7_K",
        "outputId": "a1cc0262-d2f9-42a3-dd9c-36f10274c052"
      },
      "outputs": [
        {
          "output_type": "execute_result",
          "data": {
            "text/plain": [
              "5"
            ]
          },
          "metadata": {},
          "execution_count": 105
        }
      ],
      "source": [
        "len(data_split_list)"
      ]
    },
    {
      "cell_type": "code",
      "execution_count": 106,
      "metadata": {
        "colab": {
          "base_uri": "https://localhost:8080/"
        },
        "id": "hzLQyBMff7_K",
        "outputId": "78b89343-daa6-4c63-bead-92ca69d3494b"
      },
      "outputs": [
        {
          "output_type": "execute_result",
          "data": {
            "text/plain": [
              "1199"
            ]
          },
          "metadata": {},
          "execution_count": 106
        }
      ],
      "source": [
        "len(data_split_list[0])"
      ]
    },
    {
      "cell_type": "code",
      "execution_count": 107,
      "metadata": {
        "id": "IYk44aZ1f7_K"
      },
      "outputs": [],
      "source": [
        "def clean_topics(topics):\n",
        "    \n",
        "    topic_1 = []\n",
        "\n",
        "    for t in topics[0][1][:20]:\n",
        "        topic_1.append(t[1:-1])\n",
        "        \n",
        "    topic_2 = []\n",
        "\n",
        "    for t in topics[1][1][:20]:\n",
        "        topic_2.append(t[1:-1])\n",
        "        \n",
        "    topic_mixed = list(set(topic_1) & set(topic_2))\n",
        "    \n",
        "    return topic_1, topic_2, topic_mixed"
      ]
    },
    {
      "cell_type": "code",
      "execution_count": 108,
      "metadata": {
        "id": "op8sUQlFf7_K"
      },
      "outputs": [],
      "source": [
        "def check_good_topics(topic_1, topic_2, topic_mixed, topic_pilar = 'depression'):\n",
        "    \n",
        "    dict_topic = dict()\n",
        "\n",
        "    if topic_pilar in topic_mixed:\n",
        "        return dict_topic\n",
        "\n",
        "    if topic_pilar not in topic_1+topic_2:\n",
        "        return dict_topic\n",
        "\n",
        "    if topic_pilar in topic_1:\n",
        "        dict_topic['topic_1'] = 'A'\n",
        "        dict_topic['topic_2'] = 'B'\n",
        "\n",
        "    else:\n",
        "        dict_topic['topic_1'] = 'B'\n",
        "        dict_topic['topic_2'] = 'A'\n",
        "        \n",
        "    return dict_topic"
      ]
    },
    {
      "cell_type": "code",
      "execution_count": 109,
      "metadata": {
        "id": "kqpWhDUsf7_K"
      },
      "outputs": [],
      "source": [
        "def build_n_topic_models(n_splits=n_splits, num_topics=2):\n",
        "    for i in range(n_splits):\n",
        "\n",
        "        good_current_topic = False\n",
        "\n",
        "        while not good_current_topic:\n",
        "\n",
        "            print(f\"Start iteration for topic number {i+1}\")\n",
        "\n",
        "            topics = generate_topics(num_topics)\n",
        "            \n",
        "\n",
        "            topic_1, topic_2, topic_mixed = clean_topics(topics)\n",
        "            dict_topic = check_good_topics(topic_1, topic_2, topic_mixed, topic_pilar = 'anxiety')\n",
        "\n",
        "            if not dict_topic:\n",
        "                print(f\"\\tCURRENT ITERATION FAILED: start again\")\n",
        "\n",
        "            else:\n",
        "                good_current_topic = True\n",
        "                print(f\"\\tDone\")\n",
        "                yield (topic_1, topic_2, topic_mixed, dict_topic)"
      ]
    },
    {
      "cell_type": "markdown",
      "metadata": {
        "id": "-qzqAh6ef7_N"
      },
      "source": [
        "### Structured Perceptron"
      ]
    },
    {
      "cell_type": "code",
      "execution_count": 110,
      "metadata": {
        "id": "p81KV0NMf7_N"
      },
      "outputs": [],
      "source": [
        "from collections import defaultdict, Counter\n",
        "import json\n",
        "import re\n",
        "import numpy as np\n",
        "import sys\n",
        "import pickle\n",
        "import random\n",
        "\n",
        "np.set_printoptions(precision=2)\n",
        "\n",
        "users = re.compile('@[^ ]+')\n",
        "numbers = re.compile('[0-9]')\n",
        "urls = re.compile(\"(https?:\\/\\/)?(?:www\\.|(?!www))?[^\\s\\.]+\\.[^\\s]{2,}|(www)?\\.[^\\s]+\\.[^\\s]{2,}\")"
      ]
    },
    {
      "cell_type": "code",
      "execution_count": 111,
      "metadata": {
        "id": "HUJllijVf7_N"
      },
      "outputs": [],
      "source": [
        "class StructuredPerceptron(object):\n",
        "\n",
        "\n",
        "    def __init__(self):\n",
        "       \n",
        "        self.tags = set()\n",
        "        self.feature_weights = defaultdict(lambda: defaultdict(float)) \n",
        "        self.weight_totals = defaultdict(lambda: defaultdict(float)) \n",
        "        self.timestamps = defaultdict(lambda: defaultdict(float)) \n",
        "\n",
        "        self.tag_dict = defaultdict(set) \n",
        "\n",
        "        self.START = \"__START__\"\n",
        "        self.END = \"__END__\"\n",
        "        \n",
        "        \n",
        "    def normalize(self, word):\n",
        "        \n",
        "        return re.sub(urls, 'URL', re.sub(users, '@USER', re.sub(numbers, '0', word.strip().lower())))\n",
        "\n",
        "    \n",
        "    def evaluate(self, data_instances, method='greedy'):\n",
        "        correct = 0\n",
        "        total = 0\n",
        "        for (words, tags) in data_instances:\n",
        "            try:\n",
        "                preds = self.predict(words, method=method)\n",
        "            except IndexError:\n",
        "                continue\n",
        "                \n",
        "            matches = sum(map(lambda x: int(x[0]==x[1]), zip(preds, tags)))\n",
        "            correct += matches\n",
        "            total += len(tags)\n",
        "        return correct/total\n",
        "        \n",
        "    \n",
        "    def fit(self, instances, dev_instances=None, iterations=10, learning_rate=0.25, inference='greedy', verbose=False):     \n",
        "        \n",
        "        for (words, tags) in instances:\n",
        "            self.tags.update(set(tags))\n",
        "\n",
        "            for word, tag in zip(words, tags):\n",
        "                self.tag_dict[self.normalize(word)].add(tag)\n",
        "        \n",
        "            \n",
        "        for iteration in range(1, iterations+1):\n",
        "            correct = 0\n",
        "            total = 0\n",
        "            if verbose:\n",
        "                print('Iteration {}'.format(iteration+1), file=sys.stderr, flush=True)\n",
        "                print(\"*\" * 15, file=sys.stderr, flush=True)\n",
        "\n",
        "            random.shuffle(instances)\n",
        "            for i, (words, tags) in enumerate(instances):\n",
        "                if i > 0:\n",
        "                    if i%1000==0:\n",
        "                        print('%s'%i, file=sys.stderr, flush=True)\n",
        "                    elif i%20==0:\n",
        "                        print('.', file=sys.stderr, flush=True, end='')\n",
        "\n",
        "                try:\n",
        "                    prediction = self.predict(words, method=inference)\n",
        "                except IndexError:\n",
        "                    continue\n",
        "\n",
        "                global_gold_features, global_prediction_features = self.get_global_features(words, prediction, tags)\n",
        "                                    \n",
        "                for tag, fids in global_gold_features.items():\n",
        "                    for fid, count in fids.items():\n",
        "                        nr_iters_at_this_weight = iteration - self.timestamps[fid][tag]\n",
        "                        self.weight_totals[fid][tag] += nr_iters_at_this_weight * self.feature_weights[fid][tag]\n",
        "                        self.timestamps[fid][tag] = iteration\n",
        "                        self.feature_weights[fid][tag] += learning_rate * count\n",
        "\n",
        "                for tag, fids in global_prediction_features.items():\n",
        "                    for fid, count in fids.items():\n",
        "                        nr_iters_at_this_weight = iteration - self.timestamps[fid][tag]\n",
        "                        self.weight_totals[fid][tag] += nr_iters_at_this_weight * self.feature_weights[fid][tag]\n",
        "                        self.timestamps[fid][tag] = iteration\n",
        "                        self.feature_weights[fid][tag] -= learning_rate * count\n",
        "                        \n",
        "                # compute training accuracy for this iteration\n",
        "                correct += sum([int(predicted_tag == true_tag) for predicted_tag, true_tag in zip(prediction, tags)])\n",
        "                total += len(tags)\n",
        "\n",
        "                # output examples\n",
        "                if verbose and i%1000==0:\n",
        "                    print(\"current word accuracy:{:.2f}\".format(correct/total))\n",
        "                    print(list(zip(words, \n",
        "                                   [self.normalize(word) for word in words], \n",
        "                                   tags, \n",
        "                                   prediction)), file=sys.stderr, flush=True)\n",
        "            \n",
        "            print('\\t{} features'.format(len(self.feature_weights)), file=sys.stderr, flush=True)\n",
        "            print('\\tTraining accuracy: {:.2f}\\n'.format(correct/total), file=sys.stderr, flush=True)\n",
        "            if dev_instances:\n",
        "                print('\\tDevelopment accuracy: {:.2f}\\n'.format(self.evaluate(dev_instances, method=inference)), file=sys.stderr, flush=True)\n",
        "         \n",
        "        # average weights\n",
        "        for feature, tags in self.feature_weights.items():\n",
        "            for tag in tags:\n",
        "                total = self.weight_totals[feature][tag]\n",
        "                total += (iterations - self.timestamps[feature][tag]) * self.feature_weights[feature][tag]\n",
        "                averaged = round(total / float(iterations), 3)\n",
        "                self.feature_weights[feature][tag] = averaged\n",
        "\n",
        "\n",
        "    def get_features(self, word, previous_tag2, previous_tag, words, i):\n",
        "        \n",
        "        prefix = word[:3]\n",
        "        suffix = word[-3:]\n",
        "\n",
        "        features = {\n",
        "                    'PREFIX={}'.format(prefix),\n",
        "                    'SUFFIX={}'.format(suffix),\n",
        "                    'LEN<=3={}'.format(len(word)<=3),\n",
        "                    'FIRST_LETTER={}'.format(word[0]),\n",
        "                    'WORD={}'.format(word),\n",
        "                    'NORM_WORD={}'.format(words[i]),\n",
        "                    'PREV_WORD={}'.format(words[i-1]),\n",
        "                    'PREV_WORD_PREFIX={}'.format(words[i-1][:3]),\n",
        "                    'PREV_WORD_SUFFIX={}'.format(words[i-1][-3:]),\n",
        "                    'PREV_WORD+WORD={}+{}'.format(words[i-1], words[i]),\n",
        "                    'NEXT_WORD={}'.format(words[i+1]),\n",
        "                    'NEXT_WORD_PREFIX={}'.format(words[i+1][:3]),\n",
        "                    'NEXT_WORD_SUFFIX={}'.format(words[i+1][-3:]),\n",
        "                    'WORD+NEXT_WORD={}'.format(word, words[i+1]),\n",
        "                    'NEXT_2WORDS={}+{}'.format(words[i+1], words[i+2]),\n",
        "                    'PREV_TAG={}'.format(previous_tag),                 # previous tag\n",
        "                    'PREV_TAG2={}'.format(previous_tag2),                 # two-previous tag\n",
        "                    'PREV_TAG_BIGRAM={}+{}'.format(previous_tag2, previous_tag),  # tag bigram\n",
        "                    'PREV_TAG+WORD={}+{}'.format(previous_tag, word),            # word-tag combination\n",
        "                    'PREV_TAG+PREFIX={}_{}'.format(previous_tag, prefix),        # prefix and tag\n",
        "                    'PREV_TAG+SUFFIX={}_{}'.format(previous_tag, suffix),        # suffix and tag\n",
        "                    'WORD+TAG_BIGRAM={}+{}+{}'.format(word, previous_tag2, previous_tag),\n",
        "                    'SUFFIX+2TAGS={}+{}+{}'.format(suffix, previous_tag2, previous_tag),\n",
        "                    'PREFIX+2TAGS={}+{}+{}'.format(prefix, previous_tag2, previous_tag),\n",
        "                    'BIAS'\n",
        "            }\n",
        "        return features\n",
        "    \n",
        "    \n",
        "    def get_global_features(self, words, predicted_tags, true_tags):\n",
        "       \n",
        "        context = [self.START] + [self.normalize(word) for word in words] + [self.END, self.END]\n",
        "\n",
        "        global_gold_features = defaultdict(lambda: Counter())\n",
        "        global_prediction_features = defaultdict(lambda: Counter())\n",
        "\n",
        "        prev_predicted_tag = self.START\n",
        "        prev_predicted_tag2 = self.START\n",
        "        \n",
        "        for j, (word, predicted_tag, true_tag) in enumerate(zip(words, predicted_tags, true_tags)):\n",
        "            prediction_features = self.get_features(word, prev_predicted_tag2, prev_predicted_tag, context, j+1)\n",
        "\n",
        "            global_prediction_features[predicted_tag].update(prediction_features)\n",
        "            global_gold_features[true_tag].update(prediction_features)\n",
        "\n",
        "            prev_predicted_tag2 = prev_predicted_tag\n",
        "            prev_predicted_tag = predicted_tag\n",
        "\n",
        "        return global_gold_features, global_prediction_features\n",
        "            \n",
        "    \n",
        "    def get_scores(self, features):\n",
        "        scores = defaultdict(float)\n",
        "        \n",
        "        for feature in features:\n",
        "            if feature not in self.feature_weights:\n",
        "                continue\n",
        "            weights = self.feature_weights[feature]\n",
        "            for tag, weight in weights.items():\n",
        "                scores[tag] += weight\n",
        "\n",
        "        if not scores:\n",
        "            scores[list(self.tags)[0]] = 1\n",
        "        \n",
        "        return scores\n",
        "\n",
        "\n",
        "    def predict(self, words, method='greedy'):\n",
        "        if method == 'greedy':\n",
        "            return self.predict_greedy(words)\n",
        "        elif method == 'viterbi':\n",
        "            return self.predict_viterbi(words)\n",
        "\n",
        "\n",
        "    def predict_viterbi(self, words):\n",
        "        context = [self.START] + [self.normalize(word) for word in words] + [self.END, self.END]\n",
        "\n",
        "        N = len(words)\n",
        "        M = len(self.tags) #number of tags\n",
        "        tags = sorted(self.tags)\n",
        "\n",
        "        # create trellis of size M (number of tags) x N (sentence length)\n",
        "        Q = np.ones((M, N)) * float('-Inf')\n",
        "        backpointers = np.ones((M, N), dtype=np.int16) * -1 #backpointers\n",
        "\n",
        "        # initialize probs for tags j at position 1 (first word)\n",
        "        features = self.get_features(words[0], self.START, self.START, context, 1)\n",
        "        scores = self.get_scores(features)\n",
        "        allowed_initial_tags = self.tag_dict[context[1]]\n",
        "\n",
        "        for j in range(M):\n",
        "            if not allowed_initial_tags or tags[j] in allowed_initial_tags:\n",
        "                Q[j,0] = scores[tags[j]]\n",
        "\n",
        "        # filling the lattice, for every position and every tag find viterbi score Q\n",
        "        for i in range(1, N):\n",
        "            allowed_tags = self.tag_dict[context[i+1]]\n",
        "\n",
        "            # for every previous tag\n",
        "            for j in range(M):\n",
        "                best_score = 0.0#float('-Inf')\n",
        "                prev_tag = tags[j]\n",
        "\n",
        "                # skip impossible tags\n",
        "                allowed_previous_tags = self.tag_dict[context[i]]\n",
        "                if allowed_previous_tags and prev_tag not in allowed_previous_tags:\n",
        "                    continue\n",
        "\n",
        "                best_before = Q[j,i-1] # score of previous tag\n",
        "\n",
        "                # for every possible pre-previous tag\n",
        "                for k in range(M):\n",
        "                    if i == 1:\n",
        "                        prev2_tag = self.START\n",
        "                    else:\n",
        "                        prev2_tag = tags[k]\n",
        "                        # skip impossible tags\n",
        "                        allowed_previous2_tags = self.tag_dict[context[i-1]]\n",
        "                        if allowed_previous2_tags and prev2_tag not in allowed_previous2_tags:\n",
        "                            continue\n",
        "\n",
        "                    # get features of word i with the two previous tags\n",
        "                    features = self.get_features(words[i], prev2_tag, prev_tag, context, i+1)\n",
        "                    scores = self.get_scores(features)\n",
        "\n",
        "                    # update best score\n",
        "                    for t in range(M):\n",
        "                        tag = tags[t]\n",
        "                        # if word is unknown, use all tags, otherwise allowed ones\n",
        "                        if not allowed_tags or tag in allowed_tags:\n",
        "                            tag_score = best_before + scores[tag]\n",
        "\n",
        "                            if tag_score > best_score:\n",
        "                                Q[t,i] = tag_score\n",
        "                                best_score = tag_score\n",
        "                                backpointers[t,i] = j\n",
        "\n",
        "        # final best\n",
        "        best_id = Q[:,-1].argmax()\n",
        "\n",
        "        # print best tags in reverse order\n",
        "        predtags = [tags[best_id]]\n",
        "\n",
        "        for i in range(N-1,0,-1):\n",
        "            idx = backpointers[best_id, i]\n",
        "            predtags.append(tags[idx])\n",
        "            best_id = idx\n",
        "\n",
        "        #return reversed predtags\n",
        "        return predtags[::-1]         \n",
        "\n",
        "    \n",
        "    def predict_greedy(self, words):\n",
        "        context = [self.START] + [self.normalize(word) for word in words] + [self.END, self.END]\n",
        "                \n",
        "        prev_predicted_tag = self.START\n",
        "        prev_predicted_tag2 = self.START\n",
        "\n",
        "        out = []\n",
        "\n",
        "        for j, word in enumerate(words):\n",
        "            # for unambiguous words, just look up the tag\n",
        "            predicted_tag = list(self.tag_dict[context[j+1]])[0] if len(self.tag_dict[context[j+1]]) == 1 else None\n",
        "\n",
        "            if not predicted_tag:\n",
        "                # get the predicted features. NB: use j+1, since context is longer than words\n",
        "                prediction_features = self.get_features(word, prev_predicted_tag2, prev_predicted_tag, context, j+1)\n",
        "                scores = self.get_scores(prediction_features)\n",
        "                \n",
        "                # predict the current tag\n",
        "                predicted_tag = max(scores, key=scores.get)\n",
        "\n",
        "            prev_predicted_tag2 = prev_predicted_tag\n",
        "            prev_predicted_tag = predicted_tag\n",
        "\n",
        "            out.append(predicted_tag)\n",
        "\n",
        "        return out\n",
        "        \n",
        "\n",
        "    def save(self, file_name):\n",
        "        print(\"saving model...\", end=' ', file=sys.stderr)\n",
        "        with open(file_name, \"wb\") as model:\n",
        "            # pickle cannot save default_dictionaries\n",
        "            # => make copy and turn into regular dictionaries\n",
        "            save_feature_weights = defaultdict(lambda: defaultdict(float))\n",
        "            save_feature_weights.update(self.feature_weights)\n",
        "            save_tag_dict = defaultdict(set)\n",
        "            save_tag_dict.update(self.tag_dict)\n",
        "\n",
        "            save_feature_weights.default_factory = None\n",
        "            save_tag_dict.default_factory = None\n",
        "            pickle.dump((save_feature_weights, save_tag_dict, self.tags),\n",
        "                     model, -1)\n",
        "        print(\"done\", file=sys.stderr)\n",
        "\n",
        "\n",
        "    def load(self, file_name):\n",
        "        print(\"loading model...\", end=' ', file=sys.stderr)\n",
        "        with open(file_name, 'rb') as model:\n",
        "            try:\n",
        "                parameters = pickle.load(model)\n",
        "            except IOError:\n",
        "                msg = (\"No such model file.\")\n",
        "                raise MissingCorpusError(msg)\n",
        "\n",
        "            feature_weights, tag_dict, tags = parameters\n",
        "            self.tags = tags\n",
        "\n",
        "            self.feature_weights = defaultdict(lambda: defaultdict(float))\n",
        "            self.tag_dict = defaultdict(set)\n",
        "            \n",
        "            self.feature_weights.update(feature_weights)\n",
        "            self.tag_dict.update(tag_dict)\n",
        "        print(\"done\", file=sys.stderr)\n",
        "        return None"
      ]
    }
  ],
  "metadata": {
    "colab": {
      "collapsed_sections": [],
      "name": "Copy of NLP_mental_health_analysis.ipynb",
      "provenance": []
    },
    "kernelspec": {
      "display_name": "Python 3 (ipykernel)",
      "language": "python",
      "name": "python3"
    },
    "language_info": {
      "codemirror_mode": {
        "name": "ipython",
        "version": 3
      },
      "file_extension": ".py",
      "mimetype": "text/x-python",
      "name": "python",
      "nbconvert_exporter": "python",
      "pygments_lexer": "ipython3",
      "version": "3.8.3"
    }
  },
  "nbformat": 4,
  "nbformat_minor": 0
}
